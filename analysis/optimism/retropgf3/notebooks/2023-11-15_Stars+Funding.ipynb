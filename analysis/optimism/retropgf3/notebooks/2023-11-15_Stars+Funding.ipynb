{
 "cells": [
  {
   "cell_type": "code",
   "execution_count": 1,
   "id": "094a169b",
   "metadata": {},
   "outputs": [],
   "source": [
    "from collections import defaultdict\n",
    "import json\n",
    "import matplotlib.pyplot as plt\n",
    "import pandas as pd\n",
    "import seaborn as sns\n",
    "\n",
    "from scripts.oso_db import execute_query"
   ]
  },
  {
   "cell_type": "code",
   "execution_count": 2,
   "id": "074f6a5f",
   "metadata": {},
   "outputs": [
    {
     "data": {
      "text/plain": [
       "{'all_grants': {'op-govgrants': {'count': 240, 'sum': 68792330},\n",
       "  'op-rpgf2': {'count': 195, 'sum': 10000007}},\n",
       " 'oss_grants': {'op-govgrants': {'count': 194, 'sum': 65548249},\n",
       "  'op-rpgf2': {'count': 140, 'sum': 8223408}}}"
      ]
     },
     "execution_count": 2,
     "metadata": {},
     "output_type": "execute_result"
    }
   ],
   "source": [
    "grants_df = pd.read_json(\"data/2023-10-01_op_tracked_grants.json\")\n",
    "grants_df['collection'] = grants_df['tags'].apply(lambda x: 'op-rpgf2' if 'RPGF2' in x else 'op-govgrants')\n",
    "get_stats = lambda x: x.groupby('collection')['amount'].agg(['count', 'sum']).T.to_dict()\n",
    "grant_stats = {\n",
    "    \"all_grants\": get_stats(grants_df),\n",
    "    \"oss_grants\": get_stats(grants_df[grants_df['slug'] != \"\"])\n",
    "}\n",
    "grant_stats"
   ]
  },
  {
   "cell_type": "code",
   "execution_count": 3,
   "id": "400b7257",
   "metadata": {},
   "outputs": [],
   "source": [
    "rpgf2 = grants_df[grants_df['collection'] == 'op-rpgf2']\n",
    "rpgf2.at[383,'slug'] = 'goerli'\n",
    "slugs = list(rpgf2['slug'].unique())"
   ]
  },
  {
   "cell_type": "code",
   "execution_count": 4,
   "id": "7d8887da",
   "metadata": {},
   "outputs": [],
   "source": [
    "slugs_list = \"','\".join(slugs)\n",
    "\n",
    "query = f\"\"\"\n",
    "    SELECT p.slug, MAX(e.amount) AS stars\n",
    "    FROM event e\n",
    "    LEFT JOIN project_artifacts_artifact paa ON e.\"toId\" = paa.\"artifactId\"\n",
    "    LEFT JOIN project p ON paa.\"projectId\" = p.\"id\"\n",
    "    WHERE p.slug IN ('{slugs_list}') AND e.\"typeId\" = 22\n",
    "    GROUP BY p.slug, e.\"fromId\";\n",
    "\"\"\"\n",
    "\n",
    "results = execute_query(query, col_names=True)"
   ]
  },
  {
   "cell_type": "code",
   "execution_count": 5,
   "id": "d1ddae66",
   "metadata": {},
   "outputs": [
    {
     "data": {
      "text/html": [
       "<div>\n",
       "<style scoped>\n",
       "    .dataframe tbody tr th:only-of-type {\n",
       "        vertical-align: middle;\n",
       "    }\n",
       "\n",
       "    .dataframe tbody tr th {\n",
       "        vertical-align: top;\n",
       "    }\n",
       "\n",
       "    .dataframe thead th {\n",
       "        text-align: right;\n",
       "    }\n",
       "</style>\n",
       "<table border=\"1\" class=\"dataframe\">\n",
       "  <thead>\n",
       "    <tr style=\"text-align: right;\">\n",
       "      <th></th>\n",
       "      <th>project</th>\n",
       "      <th>link</th>\n",
       "      <th>amount</th>\n",
       "      <th>tags</th>\n",
       "      <th>collection</th>\n",
       "      <th>stars</th>\n",
       "    </tr>\n",
       "    <tr>\n",
       "      <th>slug</th>\n",
       "      <th></th>\n",
       "      <th></th>\n",
       "      <th></th>\n",
       "      <th></th>\n",
       "      <th></th>\n",
       "      <th></th>\n",
       "    </tr>\n",
       "  </thead>\n",
       "  <tbody>\n",
       "    <tr>\n",
       "      <th>0x-splits</th>\n",
       "      <td>0xSplits</td>\n",
       "      <td>https://app.optimism.io/retropgf-discovery/0x9...</td>\n",
       "      <td>52154</td>\n",
       "      <td>[RPGF2]</td>\n",
       "      <td>op-rpgf2</td>\n",
       "      <td>29.0</td>\n",
       "    </tr>\n",
       "    <tr>\n",
       "      <th>0xparc</th>\n",
       "      <td>0xPARC</td>\n",
       "      <td>https://app.optimism.io/retropgf-discovery/0x5...</td>\n",
       "      <td>206054</td>\n",
       "      <td>[RPGF2]</td>\n",
       "      <td>op-rpgf2</td>\n",
       "      <td>62.0</td>\n",
       "    </tr>\n",
       "    <tr>\n",
       "      <th>across</th>\n",
       "      <td>Across Protocol</td>\n",
       "      <td>https://app.optimism.io/retropgf-discovery/0x3...</td>\n",
       "      <td>15039</td>\n",
       "      <td>[RPGF2]</td>\n",
       "      <td>op-rpgf2</td>\n",
       "      <td>23.0</td>\n",
       "    </tr>\n",
       "    <tr>\n",
       "      <th>akula-bft</th>\n",
       "      <td>Akula</td>\n",
       "      <td>https://app.optimism.io/retropgf-discovery/0x9...</td>\n",
       "      <td>39664</td>\n",
       "      <td>[RPGF2]</td>\n",
       "      <td>op-rpgf2</td>\n",
       "      <td>130.0</td>\n",
       "    </tr>\n",
       "    <tr>\n",
       "      <th>ankr-network</th>\n",
       "      <td>Ankr</td>\n",
       "      <td>https://app.optimism.io/retropgf-discovery/0x5...</td>\n",
       "      <td>8603</td>\n",
       "      <td>[RPGF2]</td>\n",
       "      <td>op-rpgf2</td>\n",
       "      <td>42.0</td>\n",
       "    </tr>\n",
       "  </tbody>\n",
       "</table>\n",
       "</div>"
      ],
      "text/plain": [
       "                      project  \\\n",
       "slug                            \n",
       "0x-splits            0xSplits   \n",
       "0xparc                 0xPARC   \n",
       "across        Across Protocol   \n",
       "akula-bft               Akula   \n",
       "ankr-network             Ankr   \n",
       "\n",
       "                                                           link  amount  \\\n",
       "slug                                                                      \n",
       "0x-splits     https://app.optimism.io/retropgf-discovery/0x9...   52154   \n",
       "0xparc        https://app.optimism.io/retropgf-discovery/0x5...  206054   \n",
       "across        https://app.optimism.io/retropgf-discovery/0x3...   15039   \n",
       "akula-bft     https://app.optimism.io/retropgf-discovery/0x9...   39664   \n",
       "ankr-network  https://app.optimism.io/retropgf-discovery/0x5...    8603   \n",
       "\n",
       "                 tags collection  stars  \n",
       "slug                                     \n",
       "0x-splits     [RPGF2]   op-rpgf2   29.0  \n",
       "0xparc        [RPGF2]   op-rpgf2   62.0  \n",
       "across        [RPGF2]   op-rpgf2   23.0  \n",
       "akula-bft     [RPGF2]   op-rpgf2  130.0  \n",
       "ankr-network  [RPGF2]   op-rpgf2   42.0  "
      ]
     },
     "execution_count": 5,
     "metadata": {},
     "output_type": "execute_result"
    }
   ],
   "source": [
    "df = pd.DataFrame(results[1:], columns=results[0])\n",
    "df.set_index('slug', drop=True, inplace=True)\n",
    "df = rpgf2.set_index('slug').join(df).dropna()\n",
    "df.head()"
   ]
  },
  {
   "cell_type": "code",
   "execution_count": 6,
   "id": "6154cd70",
   "metadata": {},
   "outputs": [
    {
     "data": {
      "image/png": "[encoded data removed]",
      "text/plain": [
       "<Figure size 720x720 with 1 Axes>"
      ]
     },
     "metadata": {
      "needs_background": "light"
     },
     "output_type": "display_data"
    }
   ],
   "source": [
    "fix, ax = plt.subplots(figsize=(10,10))\n",
    "\n",
    "sns.scatterplot(data=df, x='stars', y='amount')\n",
    "\n",
    "ax.set_xscale('log')\n",
    "ax.set_yscale('log')"
   ]
  }
 ],
 "metadata": {
  "kernelspec": {
   "display_name": "gis",
   "language": "python",
   "name": "gis"
  },
  "language_info": {
   "codemirror_mode": {
    "name": "ipython",
    "version": 3
   },
   "file_extension": ".py",
   "mimetype": "text/x-python",
   "name": "python",
   "nbconvert_exporter": "python",
   "pygments_lexer": "ipython3",
   "version": "3.9.7"
  }
 },
 "nbformat": 4,
 "nbformat_minor": 5
}
