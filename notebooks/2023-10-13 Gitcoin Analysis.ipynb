{
 "cells": [
  {
   "cell_type": "code",
   "execution_count": null,
   "metadata": {},
   "outputs": [],
   "source": [
    "import matplotlib.pyplot as plt\n",
    "import pandas as pd\n",
    "import seaborn as sns\n",
    "\n",
    "from scripts.oso_db import execute_query, query_and_dump_to_csv\n",
    "from visualizations.contribution_heatmap import contribution_heatmap\n",
    "from visualizations.stacked_area import activity_plot, EVENT_TYPES"
   ]
  },
  {
   "cell_type": "code",
   "execution_count": null,
   "metadata": {},
   "outputs": [],
   "source": [
    "query = \"\"\"\n",
    "    SELECT\n",
    "        p.\"name\" AS project_name,\n",
    "        a.\"name\" AS github_repo,\n",
    "        e.\"fromId\" AS contributor_id,\n",
    "        e.\"type\" AS event_type,\n",
    "        e.\"id\" AS event_id,\n",
    "        e.\"time\" AS event_time\n",
    "    FROM\n",
    "        project p\n",
    "    JOIN\n",
    "        project_artifacts_artifact paa ON p.\"id\" = paa.\"projectId\"\n",
    "    JOIN\n",
    "        artifact a ON paa.\"artifactId\" = a.\"id\"\n",
    "    JOIN\n",
    "        event e ON a.\"id\" = e.\"toId\"\n",
    "    WHERE\n",
    "        a.\"namespace\" = 'GITHUB'\n",
    "        AND p.\"slug\" = 'gitcoin'\n",
    "        AND NOT a.\"name\" IN (\n",
    "            'gitcoinco/mattermost-server',\n",
    "            'gitcoinco/mattermost-webapp',\n",
    "            'gitcoinco/mattermost-redux',\n",
    "            'gitcoinco/mattermost-plugin-gitlab',\n",
    "            'gitcoinco/django-cacheops',\n",
    "            'gitcoinco/contract-metadata',\n",
    "            'gitcoinco/discourse-adplugin',\n",
    "            'gitcoinco/slack-protector',\n",
    "            'gitcoinco/snapshot-spaces',\n",
    "            'gitcoinco/sourcecred',\n",
    "            'gitcoinco/cred',\n",
    "            'gitcoinco/code_fund_ads',\n",
    "            'gitcoinco/EIPs',\n",
    "            'gitcoinco/codefund',\n",
    "            'gitcoinco/lemonade-stand',\n",
    "            'gitcoinco/coz-slack-ico-management-platform',\n",
    "            'gitcoinco/desktop-app'\n",
    "        )\n",
    "\"\"\"\n",
    "\n",
    "result = execute_query(query, col_names=True)\n",
    "df = pd.DataFrame(result[1:], columns=result[0])\n",
    "df['date'] = df['event_time'].apply(lambda x: x.date())\n",
    "df['month'] = pd.PeriodIndex(df.event_time, freq='M')\n",
    "df['quarter'] = pd.PeriodIndex(df.event_time, freq='Q')\n",
    "df.drop(columns=['event_time'], inplace=True)\n",
    "df"
   ]
  },
  {
   "cell_type": "code",
   "execution_count": null,
   "metadata": {},
   "outputs": [],
   "source": [
    "len(df[df['event_type'] == 'COMMIT_CODE'])"
   ]
  },
  {
   "cell_type": "code",
   "execution_count": null,
   "metadata": {},
   "outputs": [],
   "source": [
    "len(df[df['event_type'] == 'COMMIT_CODE']['contributor_id'].unique())"
   ]
  },
  {
   "cell_type": "code",
   "execution_count": null,
   "metadata": {},
   "outputs": [],
   "source": [
    "len(df['github_repo'].unique())"
   ]
  },
  {
   "cell_type": "code",
   "execution_count": null,
   "metadata": {},
   "outputs": [],
   "source": [
    "df['']"
   ]
  },
  {
   "cell_type": "code",
   "execution_count": null,
   "metadata": {},
   "outputs": [],
   "source": [
    "contrib_counts = df[df.event_type.isin(EVENT_TYPES)]['contributor_id'].value_counts()\n",
    "filtered_contribs = contrib_counts[contrib_counts>10].index\n",
    "\n",
    "repo_star_counts = df[df.event_type == 'STARRED'].groupby('github_repo')['event_id'].count()\n",
    "repo_commit_counts = df[df.event_type == 'COMMIT_CODE'].groupby('github_repo')['event_id'].count()\n",
    "filtered_repos = set(repo_star_counts[repo_star_counts>1].index).union(set(repo_commit_counts[repo_commit_counts>1].index))\n",
    "\n",
    "dff = df[df['github_repo'].isin(filtered_repos) * df['contributor_id'].isin(filtered_contribs)]\n",
    "\n",
    "dff"
   ]
  },
  {
   "cell_type": "code",
   "execution_count": null,
   "metadata": {},
   "outputs": [],
   "source": [
    "df_contrib_counts = (dff[dff.event_type.isin(['COMMIT_CODE'])]\n",
    " .groupby(['month', 'contributor_id'])['event_id']\n",
    " .count().rename('contributions')\n",
    " .reset_index())\n",
    "\n",
    "fulltime_threshold = 10\n",
    "df_contrib_counts['dev_type'] = df_contrib_counts['contributions'].apply(lambda x: 'full-time' if x > fulltime_threshold else 'part-time')\n",
    "df_contrib_counts['dev_type']\n",
    "df_contrib_counts['devs'] = 1\n",
    "\n",
    "activity_plot(\n",
    "    df_contrib_counts,\n",
    "    'dev_type',\n",
    "    date_col='month',\n",
    "    value_col='devs',\n",
    "    filter_col='dev_type',\n",
    "    filter_vals=['full-time', 'part-time'],\n",
    "    ylabel='Monthly Active Contributors',\n",
    "    start_date='2018-01-01',\n",
    "    end_date='2023-08-31',\n",
    ")"
   ]
  },
  {
   "cell_type": "code",
   "execution_count": null,
   "metadata": {},
   "outputs": [],
   "source": [
    "activity_plot(\n",
    "    df_contrib_counts,\n",
    "    'dev_type',\n",
    "    date_col='month',\n",
    "    value_col='devs',\n",
    "    filter_col='dev_type',\n",
    "    filter_vals=['full-time'],\n",
    "    ylabel='Monthly Active Contributors',\n",
    "    start_date='2018-01-01',\n",
    "    end_date='2023-08-31',\n",
    ")"
   ]
  },
  {
   "cell_type": "code",
   "execution_count": null,
   "metadata": {},
   "outputs": [],
   "source": [
    "activity_df = dff.copy()\n",
    "activity_df['num_contributions'] = 1\n",
    "activity_plot(activity_df, \n",
    "              'event_type', \n",
    "              date_col='month', \n",
    "              start_date='2018-01-01',\n",
    "              end_date='2023-08-31',\n",
    "              filter_vals=['COMMIT_CODE', 'PULL_REQUEST_CREATED', 'ISSUE_CREATED'])"
   ]
  },
  {
   "cell_type": "code",
   "execution_count": null,
   "metadata": {},
   "outputs": [],
   "source": [
    "df_activity = (\n",
    "    dff.groupby(['github_repo', 'event_type'])\n",
    "    ['event_id'].count()\n",
    "    .reset_index()\n",
    "    .rename(columns={'event_id': 'total_contributions'})\n",
    ")\n",
    "\n",
    "contribution_heatmap(\n",
    "    df_activity,\n",
    "    index_col='github_repo',\n",
    "    column_col='event_type',\n",
    "    value_col='total_contributions',\n",
    "    figsize=(8,22),\n",
    "    vmax=500,\n",
    "    sort_label_method='mean'\n",
    ")"
   ]
  },
  {
   "cell_type": "code",
   "execution_count": null,
   "metadata": {},
   "outputs": [],
   "source": [
    "df_commits = (\n",
    "    dff[dff['event_type']=='COMMIT_CODE']\n",
    "    .groupby(['github_repo', 'quarter'])\n",
    "    ['event_id'].count()\n",
    "    .reset_index()\n",
    "    .rename(columns={'event_id': 'total_commits'})\n",
    ")\n",
    "contribution_heatmap(\n",
    "    df_commits, \n",
    "    index_col='github_repo', \n",
    "    column_col='quarter', \n",
    "    value_col='total_commits', \n",
    "    vmax=50,\n",
    "    figsize=(8,22)\n",
    ")"
   ]
  },
  {
   "cell_type": "code",
   "execution_count": null,
   "metadata": {},
   "outputs": [],
   "source": [
    "df_prs = (\n",
    "    dff[dff['event_type']=='PULL_REQUEST_APPROVED']\n",
    "    .groupby(['github_repo', 'month'])\n",
    "    ['event_id'].count()\n",
    "    .reset_index()\n",
    "    .rename(columns={'event_id': 'total_prs_approved'})\n",
    ")\n",
    "contribution_heatmap(\n",
    "    df_prs, \n",
    "    index_col='github_repo', \n",
    "    column_col='month', \n",
    "    value_col='total_prs_approved', \n",
    "    vmax=50,\n",
    "#    figsize=(8,22)\n",
    ")"
   ]
  },
  {
   "cell_type": "code",
   "execution_count": null,
   "metadata": {},
   "outputs": [],
   "source": [
    "df_contribs = (\n",
    "    dff[dff['event_type'].isin(EVENT_TYPES)]\n",
    "    .groupby(['github_repo', 'quarter'])\n",
    "    ['contributor_id'].nunique()\n",
    "    .reset_index()\n",
    "    .rename(columns={'contributor_id': 'total_contributors'})\n",
    ")\n",
    "contribution_heatmap(\n",
    "    df_contribs, \n",
    "    index_col='github_repo', \n",
    "    column_col='quarter', \n",
    "    value_col='total_contributors', \n",
    "    vmax=10,\n",
    "    figsize=(8,22)\n",
    ")"
   ]
  },
  {
   "cell_type": "code",
   "execution_count": null,
   "metadata": {},
   "outputs": [],
   "source": [
    "df[df['event_type'] == 'PULL_REQUEST_APPROVED']['contributor_id'].value_counts().head(20)"
   ]
  },
  {
   "cell_type": "code",
   "execution_count": null,
   "metadata": {},
   "outputs": [],
   "source": [
    "df_issues = (\n",
    "    df[df['event_type'].isin(['ISSUE_CLOSED','ISSUE_CREATED'])]\n",
    "    .pivot_table(index='contributor_id', columns='event_type', values='event_id', aggfunc='count')\n",
    ").dropna()\n",
    "df_issues['NUM_ISSUES'] = df_issues.sum(axis=1)\n",
    "df_issues.sort_values(by='NUM_ISSUES', ascending=False).head(20)"
   ]
  },
  {
   "cell_type": "code",
   "execution_count": null,
   "metadata": {},
   "outputs": [],
   "source": []
  }
 ],
 "metadata": {
  "kernelspec": {
   "display_name": "gis",
   "language": "python",
   "name": "gis"
  },
  "language_info": {
   "codemirror_mode": {
    "name": "ipython",
    "version": 3
   },
   "file_extension": ".py",
   "mimetype": "text/x-python",
   "name": "python",
   "nbconvert_exporter": "python",
   "pygments_lexer": "ipython3",
   "version": "3.9.7"
  }
 },
 "nbformat": 4,
 "nbformat_minor": 2
}
