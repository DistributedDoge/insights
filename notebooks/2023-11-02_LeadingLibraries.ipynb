{
 "cells": [
  {
   "cell_type": "markdown",
   "id": "20b4f8a8",
   "metadata": {},
   "source": [
    "# Leading NPM Libraries\n",
    "\n",
    "###  Draft RPGF3 List ✨"
   ]
  },
  {
   "cell_type": "code",
   "execution_count": 1,
   "id": "a6d3910d",
   "metadata": {},
   "outputs": [],
   "source": [
    "from collections import defaultdict\n",
    "from datetime import datetime, timedelta, timezone\n",
    "import json\n",
    "import pandas as pd\n",
    "\n",
    "from scripts.oso_db import execute_query\n",
    "from scripts.eas_lists import OsoData, listify, create_eas_json"
   ]
  },
  {
   "cell_type": "markdown",
   "id": "5042de9b",
   "metadata": {},
   "source": [
    "# Prep"
   ]
  },
  {
   "cell_type": "code",
   "execution_count": 2,
   "id": "b5da8f44",
   "metadata": {},
   "outputs": [],
   "source": [
    "# settings\n",
    "\n",
    "DATA_DIR  = \"data/RPGF3/\"\n",
    "DATA_PATH = DATA_DIR + \"2023-11_04_RPGF3_cleaned_applicant_data.json\"\n",
    "\n",
    "LIST_NAME = \"LeadingNPMLibraries\"\n",
    "LINK_BASE = \"https://github.com/opensource-observer/insights/blob/main/notebooks/\"\n",
    "FILENAME  = \"2023-11-02_LeadingLibraries.ipynb\"\n",
    "LIST_LINK = LINK_BASE + FILENAME\n",
    "\n",
    "LIST_DESC = \" \".join([\n",
    "                \"This list only considers projects with libraries published to npm and at least 100 weekly\",\n",
    "                \"downloads. The list identifies the peak weekly downloads for a project's most popular package\",\n",
    "                \"and awards OP Tokens in proportion to the square root of max weekly downloads. In other words,\",\n",
    "                \"it favors more popular libraries but is also fairly egalitarian.\"\n",
    "            ])\n",
    "LIST_CATS = [\n",
    "            #'COLLECTIVE_GOVERNANCE',\n",
    "            'DEVELOPER_ECOSYSTEM', \n",
    "            #'END_USER_EXPERIENCE_AND_ADOPTION', \n",
    "            'OP_STACK'\n",
    "            ]\n",
    "\n",
    "AWARD_AMT = 1000000\n",
    "\n",
    "JSON_PATH = DATA_DIR + LIST_NAME + \".json\""
   ]
  },
  {
   "cell_type": "code",
   "execution_count": 3,
   "id": "fb16efb5",
   "metadata": {},
   "outputs": [
    {
     "name": "stdout",
     "output_type": "stream",
     "text": [
      "Loaded 308 OSS projects from data/RPGF3/2023-11_04_RPGF3_cleaned_applicant_data.json.\n",
      "Identified 308 unique slugs.\n"
     ]
    }
   ],
   "source": [
    "# ingest data\n",
    "\n",
    "oso = OsoData(DATA_PATH)\n",
    "slugs = oso.get_project_slugs()\n",
    "slugs_to_ids = oso.map_slugs_to_ids()\n",
    "#duplicates = oso.check_duplicate_slugs()"
   ]
  },
  {
   "cell_type": "markdown",
   "id": "89fe44b2",
   "metadata": {},
   "source": [
    "# Get the data to power the list"
   ]
  },
  {
   "cell_type": "code",
   "execution_count": 4,
   "id": "c9deddaa",
   "metadata": {},
   "outputs": [],
   "source": [
    "# run query (may take a few minutes)\n",
    "\n",
    "slugs_list = \"','\".join(slugs)\n",
    "min_downloads = 100\n",
    "type_id = 9 # downloads\n",
    "\n",
    "query = f\"\"\"\n",
    "    SELECT\n",
    "        p.slug,\n",
    "        max(e.amount)\n",
    "    FROM\n",
    "        event e\n",
    "    LEFT JOIN\n",
    "        project_artifacts_artifact paa ON e.\"toId\" = paa.\"artifactId\"\n",
    "    LEFT JOIN\n",
    "        project p ON paa.\"projectId\" = p.\"id\"\n",
    "    WHERE\n",
    "        p.slug IN ('{slugs_list}')\n",
    "        AND e.\"typeId\" = {type_id}\n",
    "        AND e.amount >= {min_downloads}\n",
    "    GROUP BY\n",
    "        p.slug;\n",
    "\n",
    "\"\"\"\n",
    "results = execute_query(query, col_names=False)"
   ]
  },
  {
   "cell_type": "code",
   "execution_count": 5,
   "id": "5d803036",
   "metadata": {},
   "outputs": [],
   "source": [
    "# transform query results\n",
    "\n",
    "popular_packages = {project: downloads**.5 for (project,downloads) in results}"
   ]
  },
  {
   "cell_type": "markdown",
   "id": "d99b860a",
   "metadata": {},
   "source": [
    "# Generate the list"
   ]
  },
  {
   "cell_type": "code",
   "execution_count": 7,
   "id": "38d1e418",
   "metadata": {},
   "outputs": [],
   "source": [
    "named_list = listify(popular_packages, AWARD_AMT)\n",
    "rpgf_list = {slugs_to_ids[k]:v for k,v in named_list.items()}"
   ]
  },
  {
   "cell_type": "code",
   "execution_count": 8,
   "id": "23478b75",
   "metadata": {},
   "outputs": [
    {
     "data": {
      "text/plain": [
       "<AxesSubplot:>"
      ]
     },
     "execution_count": 8,
     "metadata": {},
     "output_type": "execute_result"
    },
    {
     "data": {
      "image/png": "[encoded data removed]",
      "text/plain": [
       "<Figure size 720x552 with 1 Axes>"
      ]
     },
     "metadata": {
      "needs_background": "light"
     },
     "output_type": "display_data"
    }
   ],
   "source": [
    "series = pd.Series(named_list).sort_values()\n",
    "series = series[series>0]\n",
    "series.plot(kind='barh', figsize=(10,len(rpgf_list)/3))"
   ]
  },
  {
   "cell_type": "code",
   "execution_count": 9,
   "id": "62f52611",
   "metadata": {},
   "outputs": [],
   "source": [
    "eas_metadata = create_eas_json(rpgf_list, LIST_NAME, LIST_LINK, LIST_DESC, LIST_CATS)"
   ]
  },
  {
   "cell_type": "code",
   "execution_count": 10,
   "id": "f69e1ff0",
   "metadata": {},
   "outputs": [],
   "source": [
    "with open(JSON_PATH, \"w\") as f:\n",
    "    json.dump(eas_metadata, f, indent=4)"
   ]
  }
 ],
 "metadata": {
  "kernelspec": {
   "display_name": "Python 3 (ipykernel)",
   "language": "python",
   "name": "python3"
  },
  "language_info": {
   "codemirror_mode": {
    "name": "ipython",
    "version": 3
   },
   "file_extension": ".py",
   "mimetype": "text/x-python",
   "name": "python",
   "nbconvert_exporter": "python",
   "pygments_lexer": "ipython3",
   "version": "3.9.7"
  }
 },
 "nbformat": 4,
 "nbformat_minor": 5
}
