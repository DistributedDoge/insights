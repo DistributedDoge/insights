{
 "cells": [
  {
   "cell_type": "markdown",
   "id": "20b4f8a8",
   "metadata": {},
   "source": [
    "# Onchain Onboarders\n",
    "\n",
    "###  RPGF3 List ✨"
   ]
  },
  {
   "cell_type": "code",
   "execution_count": 1,
   "id": "a6d3910d",
   "metadata": {},
   "outputs": [],
   "source": [
    "from itertools import combinations\n",
    "import json\n",
    "import networkx as nx\n",
    "import numpy as np\n",
    "import pandas as pd\n",
    "\n",
    "from scripts.oso_db import execute_query\n",
    "from scripts.eas_lists import OsoData, listify, create_eas_json"
   ]
  },
  {
   "cell_type": "markdown",
   "id": "5042de9b",
   "metadata": {},
   "source": [
    "# Prep"
   ]
  },
  {
   "cell_type": "code",
   "execution_count": 2,
   "id": "b5da8f44",
   "metadata": {},
   "outputs": [],
   "source": [
    "# settings\n",
    "\n",
    "DATA_DIR  = \"data/RPGF3/\"\n",
    "DATA_PATH = DATA_DIR + \"2023-11_06_RPGF3_cleaned_applicant_data.json\"\n",
    "\n",
    "LIST_DESC = \"This list rewards projects that onboarded active users to OP Mainnet (powered by Open Source Observer).\"\n",
    "LINK_BASE = \"https://github.com/opensource-observer/insights/blob/main/notebooks/\"\n",
    "FILENAME  = \"2023-11-15_RPGF3_OnchainOnboarders.ipynb\"\n",
    "LIST_LINK = LINK_BASE + FILENAME\n",
    "\n",
    "LIST_EVAL = \" \".join([\n",
    "                \"This is an experimental list format that rewards protocols for onboarding active users to OP Mainnet.\",\n",
    "                \"Only projects with unique, public GitHub repos AND at least one contract address\",\n",
    "                \"included in their RPGF3 application are considered in this analysis.\",\n",
    "                \"The algorithm works by first identifying addresses that have: (a) at least 30 transactions on OP Mainnet,\"\n",
    "                \"(b) at least 10 distinct days of activity, (c) at least one transaction in the last 90 days,\"\n",
    "                \"(d) and interactions with at least 3 different protocols on OP Mainnet. Next, it identifies the first\",\n",
    "                \"three protocols those users interacted with. Finally, it assigns tokens based on the log\",\n",
    "                \"of these scores. For more details, please see the Impact Evaluation notebook linked to this list.\"\n",
    "                ]) \n",
    "\n",
    "LIST_CATS = [\n",
    "            #'COLLECTIVE_GOVERNANCE',\n",
    "            #'DEVELOPER_ECOSYSTEM', \n",
    "            'END_USER_EXPERIENCE_AND_ADOPTION', \n",
    "            #'OP_STACK'\n",
    "            ]\n",
    "\n",
    "AWARD_AMT = 2 * 10e6\n",
    "\n",
    "JSON_PATH = DATA_DIR + \"lists/OSO_OnchainOnboarders.json\""
   ]
  },
  {
   "cell_type": "code",
   "execution_count": 3,
   "id": "fb16efb5",
   "metadata": {},
   "outputs": [
    {
     "name": "stdout",
     "output_type": "stream",
     "text": [
      "Loaded 311 OSS projects from data/RPGF3/2023-11_06_RPGF3_cleaned_applicant_data.json.\n",
      "Identified 311 unique slugs.\n"
     ]
    }
   ],
   "source": [
    "# ingest data\n",
    "\n",
    "oso = OsoData(DATA_PATH)\n",
    "slugs = list(oso.get_project_slugs())\n",
    "slugs.remove('polynomial-protocol') # RPGF3 project is for off-chain work\n",
    "slugs_to_ids = oso.map_slugs_to_ids()"
   ]
  },
  {
   "cell_type": "markdown",
   "id": "89fe44b2",
   "metadata": {},
   "source": [
    "# Get the data to power the list"
   ]
  },
  {
   "cell_type": "code",
   "execution_count": 4,
   "id": "c9deddaa",
   "metadata": {},
   "outputs": [],
   "source": [
    "# run query (may take a few minutes)\n",
    "\n",
    "slugs_list = \"','\".join(slugs)\n",
    "\n",
    "query = f\"\"\"\n",
    "SELECT\n",
    "    e.\"fromId\",\n",
    "    COUNT(DISTINCT p.slug) AS total_slugs,\n",
    "    SUM(e.\"amount\") AS total_txns,\n",
    "    COUNT(DISTINCT e.time) AS total_days,\n",
    "    MAX(e.\"time\") AS last_txn\n",
    "FROM\n",
    "    event e\n",
    "LEFT JOIN\n",
    "    project_artifacts_artifact paa ON e.\"toId\" = paa.\"artifactId\"\n",
    "LEFT JOIN\n",
    "    project p ON paa.\"projectId\" = p.\"id\"\n",
    "WHERE\n",
    "    p.slug IN ('{slugs_list}')\n",
    "    AND e.\"typeId\" = 25\n",
    "GROUP BY\n",
    "    e.\"fromId\";\n",
    "\n",
    "\"\"\"\n",
    "results = execute_query(query, col_names=True)"
   ]
  },
  {
   "cell_type": "code",
   "execution_count": 5,
   "id": "82ad2c1e",
   "metadata": {},
   "outputs": [],
   "source": [
    "query = f\"\"\"\n",
    "WITH ranked_events AS (\n",
    "    SELECT\n",
    "        e.\"fromId\",\n",
    "        p.slug AS slug,\n",
    "        e.time,\n",
    "        ROW_NUMBER() OVER (PARTITION BY e.\"fromId\" ORDER BY e.time) AS rn\n",
    "    FROM\n",
    "        event e\n",
    "    LEFT JOIN\n",
    "        project_artifacts_artifact paa ON e.\"toId\" = paa.\"artifactId\"\n",
    "    LEFT JOIN\n",
    "        project p ON paa.\"projectId\" = p.\"id\"\n",
    "    WHERE\n",
    "        e.\"typeId\" = 25\n",
    ")\n",
    "SELECT\n",
    "    \"fromId\",\n",
    "    MAX(CASE WHEN rn = 1 THEN slug END) AS first_interacted_slug,\n",
    "    MAX(CASE WHEN rn = 2 THEN slug END) AS second_interacted_slug,\n",
    "    MAX(CASE WHEN rn = 3 THEN slug END) AS third_interacted_slug\n",
    "FROM\n",
    "    ranked_events\n",
    "WHERE\n",
    "    rn <= 3\n",
    "GROUP BY\n",
    "    \"fromId\";\n",
    "\n",
    "\"\"\"\n",
    "ranked_events = execute_query(query, col_names=True)"
   ]
  },
  {
   "cell_type": "code",
   "execution_count": 6,
   "id": "d32b7c03",
   "metadata": {},
   "outputs": [
    {
     "data": {
      "text/html": [
       "<div>\n",
       "<style scoped>\n",
       "    .dataframe tbody tr th:only-of-type {\n",
       "        vertical-align: middle;\n",
       "    }\n",
       "\n",
       "    .dataframe tbody tr th {\n",
       "        vertical-align: top;\n",
       "    }\n",
       "\n",
       "    .dataframe thead th {\n",
       "        text-align: right;\n",
       "    }\n",
       "</style>\n",
       "<table border=\"1\" class=\"dataframe\">\n",
       "  <thead>\n",
       "    <tr style=\"text-align: right;\">\n",
       "      <th></th>\n",
       "      <th>first_interacted_slug</th>\n",
       "      <th>second_interacted_slug</th>\n",
       "      <th>third_interacted_slug</th>\n",
       "      <th>total_slugs</th>\n",
       "      <th>total_txns</th>\n",
       "      <th>total_days</th>\n",
       "      <th>last_txn</th>\n",
       "    </tr>\n",
       "    <tr>\n",
       "      <th>fromId</th>\n",
       "      <th></th>\n",
       "      <th></th>\n",
       "      <th></th>\n",
       "      <th></th>\n",
       "      <th></th>\n",
       "      <th></th>\n",
       "      <th></th>\n",
       "    </tr>\n",
       "  </thead>\n",
       "  <tbody>\n",
       "    <tr>\n",
       "      <th>2.0</th>\n",
       "      <td>safe-global</td>\n",
       "      <td>safe-global</td>\n",
       "      <td>safe-global</td>\n",
       "      <td>NaN</td>\n",
       "      <td>NaN</td>\n",
       "      <td>NaN</td>\n",
       "      <td>NaN</td>\n",
       "    </tr>\n",
       "    <tr>\n",
       "      <th>81.0</th>\n",
       "      <td>zora</td>\n",
       "      <td>zora</td>\n",
       "      <td>safe-global</td>\n",
       "      <td>1.0</td>\n",
       "      <td>5.0</td>\n",
       "      <td>1.0</td>\n",
       "      <td>2023-05-10</td>\n",
       "    </tr>\n",
       "    <tr>\n",
       "      <th>110.0</th>\n",
       "      <td>safe-global</td>\n",
       "      <td>safe-global</td>\n",
       "      <td>safe-global</td>\n",
       "      <td>NaN</td>\n",
       "      <td>NaN</td>\n",
       "      <td>NaN</td>\n",
       "      <td>NaN</td>\n",
       "    </tr>\n",
       "    <tr>\n",
       "      <th>177.0</th>\n",
       "      <td>safe-global</td>\n",
       "      <td>safe-global</td>\n",
       "      <td>safe-global</td>\n",
       "      <td>NaN</td>\n",
       "      <td>NaN</td>\n",
       "      <td>NaN</td>\n",
       "      <td>NaN</td>\n",
       "    </tr>\n",
       "    <tr>\n",
       "      <th>184.0</th>\n",
       "      <td>uniswap</td>\n",
       "      <td>None</td>\n",
       "      <td>None</td>\n",
       "      <td>NaN</td>\n",
       "      <td>NaN</td>\n",
       "      <td>NaN</td>\n",
       "      <td>NaN</td>\n",
       "    </tr>\n",
       "  </tbody>\n",
       "</table>\n",
       "</div>"
      ],
      "text/plain": [
       "       first_interacted_slug second_interacted_slug third_interacted_slug  \\\n",
       "fromId                                                                      \n",
       "2.0              safe-global            safe-global           safe-global   \n",
       "81.0                    zora                   zora           safe-global   \n",
       "110.0            safe-global            safe-global           safe-global   \n",
       "177.0            safe-global            safe-global           safe-global   \n",
       "184.0                uniswap                   None                  None   \n",
       "\n",
       "        total_slugs  total_txns  total_days    last_txn  \n",
       "fromId                                                   \n",
       "2.0             NaN         NaN         NaN         NaN  \n",
       "81.0            1.0         5.0         1.0  2023-05-10  \n",
       "110.0           NaN         NaN         NaN         NaN  \n",
       "177.0           NaN         NaN         NaN         NaN  \n",
       "184.0           NaN         NaN         NaN         NaN  "
      ]
     },
     "execution_count": 6,
     "metadata": {},
     "output_type": "execute_result"
    }
   ],
   "source": [
    "# combine results from both queries\n",
    "\n",
    "raw_df = pd.DataFrame(results[1:], columns=results[0])\n",
    "raw_df['last_txn'] = raw_df['last_txn'].dt.strftime('%Y-%m-%d')\n",
    "\n",
    "ranked_events_df = pd.DataFrame(ranked_events[1:], columns=ranked_events[0]).set_index('fromId')\n",
    "raw_df = ranked_events_df.join(raw_df.set_index('fromId'))\n",
    "raw_df.head()"
   ]
  },
  {
   "cell_type": "code",
   "execution_count": 7,
   "id": "c22c1ac2",
   "metadata": {},
   "outputs": [
    {
     "name": "stdout",
     "output_type": "stream",
     "text": [
      "Feteched a total of 3557776 addresses.\n",
      "A total of 1107827 addresses interacted with a RPGF3 protocol.\n",
      "A total of 101886 addresses interacted at least 30 times.\n",
      "A total of 80568 addresses had at least 10 active days.\n",
      "A total of 57257 addresses have been active since 2023-08-15.\n",
      "A total of 47563 addresses interacted with at least 3 protocols.\n"
     ]
    },
    {
     "data": {
      "text/html": [
       "<div>\n",
       "<style scoped>\n",
       "    .dataframe tbody tr th:only-of-type {\n",
       "        vertical-align: middle;\n",
       "    }\n",
       "\n",
       "    .dataframe tbody tr th {\n",
       "        vertical-align: top;\n",
       "    }\n",
       "\n",
       "    .dataframe thead th {\n",
       "        text-align: right;\n",
       "    }\n",
       "</style>\n",
       "<table border=\"1\" class=\"dataframe\">\n",
       "  <thead>\n",
       "    <tr style=\"text-align: right;\">\n",
       "      <th></th>\n",
       "      <th>fromId</th>\n",
       "      <th>first_interacted_slug</th>\n",
       "      <th>second_interacted_slug</th>\n",
       "      <th>third_interacted_slug</th>\n",
       "      <th>total_slugs</th>\n",
       "      <th>total_txns</th>\n",
       "      <th>total_days</th>\n",
       "      <th>last_txn</th>\n",
       "    </tr>\n",
       "  </thead>\n",
       "  <tbody>\n",
       "    <tr>\n",
       "      <th>18</th>\n",
       "      <td>2518.0</td>\n",
       "      <td>velodrome</td>\n",
       "      <td>velodrome</td>\n",
       "      <td>velodrome</td>\n",
       "      <td>7.0</td>\n",
       "      <td>791.0</td>\n",
       "      <td>196.0</td>\n",
       "      <td>2023-10-18</td>\n",
       "    </tr>\n",
       "    <tr>\n",
       "      <th>31</th>\n",
       "      <td>7810.0</td>\n",
       "      <td>synapse</td>\n",
       "      <td>synapse</td>\n",
       "      <td>synapse</td>\n",
       "      <td>3.0</td>\n",
       "      <td>200.0</td>\n",
       "      <td>46.0</td>\n",
       "      <td>2023-11-09</td>\n",
       "    </tr>\n",
       "    <tr>\n",
       "      <th>34</th>\n",
       "      <td>8112.0</td>\n",
       "      <td>op</td>\n",
       "      <td>op</td>\n",
       "      <td>sushi</td>\n",
       "      <td>6.0</td>\n",
       "      <td>252.0</td>\n",
       "      <td>41.0</td>\n",
       "      <td>2023-11-02</td>\n",
       "    </tr>\n",
       "    <tr>\n",
       "      <th>53</th>\n",
       "      <td>10612.0</td>\n",
       "      <td>1-inch</td>\n",
       "      <td>op</td>\n",
       "      <td>1-inch</td>\n",
       "      <td>3.0</td>\n",
       "      <td>37.0</td>\n",
       "      <td>10.0</td>\n",
       "      <td>2023-09-26</td>\n",
       "    </tr>\n",
       "    <tr>\n",
       "      <th>55</th>\n",
       "      <td>10689.0</td>\n",
       "      <td>ripae</td>\n",
       "      <td>ripae</td>\n",
       "      <td>ripae</td>\n",
       "      <td>3.0</td>\n",
       "      <td>71.0</td>\n",
       "      <td>20.0</td>\n",
       "      <td>2023-09-08</td>\n",
       "    </tr>\n",
       "  </tbody>\n",
       "</table>\n",
       "</div>"
      ],
      "text/plain": [
       "     fromId first_interacted_slug second_interacted_slug  \\\n",
       "18   2518.0             velodrome              velodrome   \n",
       "31   7810.0               synapse                synapse   \n",
       "34   8112.0                    op                     op   \n",
       "53  10612.0                1-inch                     op   \n",
       "55  10689.0                 ripae                  ripae   \n",
       "\n",
       "   third_interacted_slug  total_slugs  total_txns  total_days    last_txn  \n",
       "18             velodrome          7.0       791.0       196.0  2023-10-18  \n",
       "31               synapse          3.0       200.0        46.0  2023-11-09  \n",
       "34                 sushi          6.0       252.0        41.0  2023-11-02  \n",
       "53                1-inch          3.0        37.0        10.0  2023-09-26  \n",
       "55                 ripae          3.0        71.0        20.0  2023-09-08  "
      ]
     },
     "execution_count": 7,
     "metadata": {},
     "output_type": "execute_result"
    }
   ],
   "source": [
    "# filter results\n",
    "\n",
    "print(f\"Feteched a total of {len(raw_df)} addresses.\")\n",
    "df = raw_df.copy().dropna(axis=0)\n",
    "\n",
    "df.reset_index(inplace=True)\n",
    "print(f\"A total of {len(df)} addresses interacted with a RPGF3 protocol.\")\n",
    "\n",
    "tx_threshold = 30\n",
    "df = df[df['total_txns']>=tx_threshold]\n",
    "print(f\"A total of {len(df)} addresses interacted at least {tx_threshold} times.\")\n",
    "\n",
    "active_days = 10\n",
    "df = df[df['total_days']>=active_days]\n",
    "print(f\"A total of {len(df)} addresses had at least {active_days} active days.\")\n",
    "\n",
    "date_thresh = '2023-08-15'\n",
    "df = df[df['last_txn'] >= date_thresh]\n",
    "print(f\"A total of {len(df)} addresses have been active since {date_thresh}.\")\n",
    "\n",
    "project_thresh = 3\n",
    "df = df[df['total_slugs']>=project_thresh]\n",
    "print(f\"A total of {len(df)} addresses interacted with at least {project_thresh} protocols.\")\n",
    "\n",
    "df.head()"
   ]
  },
  {
   "cell_type": "code",
   "execution_count": 8,
   "id": "bdebfd02",
   "metadata": {},
   "outputs": [],
   "source": [
    "# give attribution weights to the first protocols a user interacted with\n",
    "\n",
    "scores = {}\n",
    "for slug in slugs:\n",
    "    score = df[df['first_interacted_slug'] == slug]['fromId'].nunique() * .5\n",
    "    score += df[df['second_interacted_slug'] == slug]['fromId'].nunique() * .3\n",
    "    score += df[df['third_interacted_slug'] == slug]['fromId'].nunique() * .2\n",
    "    if score:\n",
    "        scores[slug] = score"
   ]
  },
  {
   "cell_type": "code",
   "execution_count": 9,
   "id": "ffada45a",
   "metadata": {},
   "outputs": [],
   "source": [
    "# apply a logarithm to bucket projects by orders of magnitude of impact\n",
    "\n",
    "logscores = {k: np.ceil(np.log10(v))+1 for k,v in scores.items()}\n",
    "amounts = {k: v*25000 for k,v in logscores.items()}"
   ]
  },
  {
   "cell_type": "markdown",
   "id": "d99b860a",
   "metadata": {},
   "source": [
    "# Generate the list"
   ]
  },
  {
   "cell_type": "code",
   "execution_count": 10,
   "id": "38d1e418",
   "metadata": {},
   "outputs": [],
   "source": [
    "rpgf_list = {slugs_to_ids[k]:v for k,v in amounts.items()}"
   ]
  },
  {
   "cell_type": "code",
   "execution_count": 12,
   "id": "23478b75",
   "metadata": {},
   "outputs": [
    {
     "data": {
      "text/plain": [
       "<AxesSubplot:>"
      ]
     },
     "execution_count": 12,
     "metadata": {},
     "output_type": "execute_result"
    },
    {
     "data": {
      "image/png": "[encoded data removed]",
      "text/plain": [
       "<Figure size 720x1008 with 1 Axes>"
      ]
     },
     "metadata": {
      "needs_background": "light"
     },
     "output_type": "display_data"
    }
   ],
   "source": [
    "series = pd.Series(amounts).sort_values()\n",
    "series = series[series>0]\n",
    "series.plot(kind='barh', figsize=(10,len(rpgf_list)/3))"
   ]
  },
  {
   "cell_type": "code",
   "execution_count": 13,
   "id": "62f52611",
   "metadata": {},
   "outputs": [],
   "source": [
    "eas_metadata = create_eas_json(rpgf_list, LIST_DESC, LIST_LINK, LIST_EVAL, LIST_CATS)"
   ]
  },
  {
   "cell_type": "code",
   "execution_count": 14,
   "id": "f69e1ff0",
   "metadata": {},
   "outputs": [],
   "source": [
    "with open(JSON_PATH, \"w\") as f:\n",
    "    json.dump(eas_metadata, f, indent=4)"
   ]
  },
  {
   "cell_type": "markdown",
   "id": "b3729a6c",
   "metadata": {},
   "source": [
    "# Visualize results"
   ]
  },
  {
   "cell_type": "code",
   "execution_count": 16,
   "id": "d2c7ed28",
   "metadata": {},
   "outputs": [],
   "source": [
    "import plotly.express as px"
   ]
  },
  {
   "cell_type": "code",
   "execution_count": 25,
   "id": "9c809177",
   "metadata": {},
   "outputs": [
    {
     "data": {
      "application/vnd.plotly.v1+json": {
       "config": {
        "plotlyServerURL": "https://plot.ly"
       },
       "data": [
        {
         "branchvalues": "total",
         "domain": {
          "x": [
           0,
           1
          ],
          "y": [
           0,
           1
          ]
         },
         "hovertemplate": "labels=%{label}<br>total_txns=%{value}<br>parent=%{parent}<br>id=%{id}<extra></extra>",
         "ids": [
          "across",
          "cliqueofficial",
          "coordinape",
          "decent",
          "defi-llama",
          "delegatexyz",
          "dforce-network",
          "ethereum-attestation-service",
          "filosofiacodigo",
          "flipside-crypto",
          "galxe",
          "gelato",
          "gitcoin",
          "holograph",
          "holonym-foundation",
          "hop-protocol",
          "hypercerts",
          "kiwi-news-attestate",
          "kromatika-finance",
          "kwenta",
          "lyra-finance",
          "mirror",
          "openocean-finance",
          "optinames-optimismresolver",
          "punk-domains",
          "rabbithole",
          "rainbow",
          "revert-finance",
          "shipyard-software",
          "socket",
          "sonne-finance",
          "sushi",
          "synapse",
          "synthetix",
          "umbra",
          "unlock-protocol",
          "velodrome",
          "yearn",
          "zora"
         ],
         "labels": [
          "across",
          "cliqueofficial",
          "coordinape",
          "decent",
          "defi-llama",
          "delegatexyz",
          "dforce-network",
          "ethereum-attestation-service",
          "filosofiacodigo",
          "flipside-crypto",
          "galxe",
          "gelato",
          "gitcoin",
          "holograph",
          "holonym-foundation",
          "hop-protocol",
          "hypercerts",
          "kiwi-news-attestate",
          "kromatika-finance",
          "kwenta",
          "lyra-finance",
          "mirror",
          "openocean-finance",
          "optinames-optimismresolver",
          "punk-domains",
          "rabbithole",
          "rainbow",
          "revert-finance",
          "shipyard-software",
          "socket",
          "sonne-finance",
          "sushi",
          "synapse",
          "synthetix",
          "umbra",
          "unlock-protocol",
          "velodrome",
          "yearn",
          "zora"
         ],
         "name": "",
         "parents": [
          "",
          "",
          "",
          "",
          "",
          "",
          "",
          "",
          "",
          "",
          "",
          "",
          "",
          "",
          "",
          "",
          "",
          "",
          "",
          "",
          "",
          "",
          "",
          "",
          "",
          "",
          "",
          "",
          "",
          "",
          "",
          "",
          "",
          "",
          "",
          "",
          "",
          "",
          ""
         ],
         "type": "treemap",
         "values": [
          83580,
          12161,
          541,
          43,
          2197,
          250,
          7534,
          36,
          122,
          678,
          264460,
          549,
          519,
          318,
          849,
          69817,
          847,
          39,
          2906,
          28683,
          355771,
          23007,
          3989,
          2101,
          6700,
          78620,
          730,
          485,
          131248,
          37819,
          32694,
          14274,
          83311,
          63936,
          9687,
          1056,
          468961,
          626,
          222
         ]
        }
       ],
       "layout": {
        "legend": {
         "tracegroupgap": 0
        },
        "margin": {
         "t": 60
        },
        "template": {
         "data": {
          "bar": [
           {
            "error_x": {
             "color": "#2a3f5f"
            },
            "error_y": {
             "color": "#2a3f5f"
            },
            "marker": {
             "line": {
              "color": "#E5ECF6",
              "width": 0.5
             },
             "pattern": {
              "fillmode": "overlay",
              "size": 10,
              "solidity": 0.2
             }
            },
            "type": "bar"
           }
          ],
          "barpolar": [
           {
            "marker": {
             "line": {
              "color": "#E5ECF6",
              "width": 0.5
             },
             "pattern": {
              "fillmode": "overlay",
              "size": 10,
              "solidity": 0.2
             }
            },
            "type": "barpolar"
           }
          ],
          "carpet": [
           {
            "aaxis": {
             "endlinecolor": "#2a3f5f",
             "gridcolor": "white",
             "linecolor": "white",
             "minorgridcolor": "white",
             "startlinecolor": "#2a3f5f"
            },
            "baxis": {
             "endlinecolor": "#2a3f5f",
             "gridcolor": "white",
             "linecolor": "white",
             "minorgridcolor": "white",
             "startlinecolor": "#2a3f5f"
            },
            "type": "carpet"
           }
          ],
          "choropleth": [
           {
            "colorbar": {
             "outlinewidth": 0,
             "ticks": ""
            },
            "type": "choropleth"
           }
          ],
          "contour": [
           {
            "colorbar": {
             "outlinewidth": 0,
             "ticks": ""
            },
            "colorscale": [
             [
              0,
              "#0d0887"
             ],
             [
              0.1111111111111111,
              "#46039f"
             ],
             [
              0.2222222222222222,
              "#7201a8"
             ],
             [
              0.3333333333333333,
              "#9c179e"
             ],
             [
              0.4444444444444444,
              "#bd3786"
             ],
             [
              0.5555555555555556,
              "#d8576b"
             ],
             [
              0.6666666666666666,
              "#ed7953"
             ],
             [
              0.7777777777777778,
              "#fb9f3a"
             ],
             [
              0.8888888888888888,
              "#fdca26"
             ],
             [
              1,
              "#f0f921"
             ]
            ],
            "type": "contour"
           }
          ],
          "contourcarpet": [
           {
            "colorbar": {
             "outlinewidth": 0,
             "ticks": ""
            },
            "type": "contourcarpet"
           }
          ],
          "heatmap": [
           {
            "colorbar": {
             "outlinewidth": 0,
             "ticks": ""
            },
            "colorscale": [
             [
              0,
              "#0d0887"
             ],
             [
              0.1111111111111111,
              "#46039f"
             ],
             [
              0.2222222222222222,
              "#7201a8"
             ],
             [
              0.3333333333333333,
              "#9c179e"
             ],
             [
              0.4444444444444444,
              "#bd3786"
             ],
             [
              0.5555555555555556,
              "#d8576b"
             ],
             [
              0.6666666666666666,
              "#ed7953"
             ],
             [
              0.7777777777777778,
              "#fb9f3a"
             ],
             [
              0.8888888888888888,
              "#fdca26"
             ],
             [
              1,
              "#f0f921"
             ]
            ],
            "type": "heatmap"
           }
          ],
          "heatmapgl": [
           {
            "colorbar": {
             "outlinewidth": 0,
             "ticks": ""
            },
            "colorscale": [
             [
              0,
              "#0d0887"
             ],
             [
              0.1111111111111111,
              "#46039f"
             ],
             [
              0.2222222222222222,
              "#7201a8"
             ],
             [
              0.3333333333333333,
              "#9c179e"
             ],
             [
              0.4444444444444444,
              "#bd3786"
             ],
             [
              0.5555555555555556,
              "#d8576b"
             ],
             [
              0.6666666666666666,
              "#ed7953"
             ],
             [
              0.7777777777777778,
              "#fb9f3a"
             ],
             [
              0.8888888888888888,
              "#fdca26"
             ],
             [
              1,
              "#f0f921"
             ]
            ],
            "type": "heatmapgl"
           }
          ],
          "histogram": [
           {
            "marker": {
             "pattern": {
              "fillmode": "overlay",
              "size": 10,
              "solidity": 0.2
             }
            },
            "type": "histogram"
           }
          ],
          "histogram2d": [
           {
            "colorbar": {
             "outlinewidth": 0,
             "ticks": ""
            },
            "colorscale": [
             [
              0,
              "#0d0887"
             ],
             [
              0.1111111111111111,
              "#46039f"
             ],
             [
              0.2222222222222222,
              "#7201a8"
             ],
             [
              0.3333333333333333,
              "#9c179e"
             ],
             [
              0.4444444444444444,
              "#bd3786"
             ],
             [
              0.5555555555555556,
              "#d8576b"
             ],
             [
              0.6666666666666666,
              "#ed7953"
             ],
             [
              0.7777777777777778,
              "#fb9f3a"
             ],
             [
              0.8888888888888888,
              "#fdca26"
             ],
             [
              1,
              "#f0f921"
             ]
            ],
            "type": "histogram2d"
           }
          ],
          "histogram2dcontour": [
           {
            "colorbar": {
             "outlinewidth": 0,
             "ticks": ""
            },
            "colorscale": [
             [
              0,
              "#0d0887"
             ],
             [
              0.1111111111111111,
              "#46039f"
             ],
             [
              0.2222222222222222,
              "#7201a8"
             ],
             [
              0.3333333333333333,
              "#9c179e"
             ],
             [
              0.4444444444444444,
              "#bd3786"
             ],
             [
              0.5555555555555556,
              "#d8576b"
             ],
             [
              0.6666666666666666,
              "#ed7953"
             ],
             [
              0.7777777777777778,
              "#fb9f3a"
             ],
             [
              0.8888888888888888,
              "#fdca26"
             ],
             [
              1,
              "#f0f921"
             ]
            ],
            "type": "histogram2dcontour"
           }
          ],
          "mesh3d": [
           {
            "colorbar": {
             "outlinewidth": 0,
             "ticks": ""
            },
            "type": "mesh3d"
           }
          ],
          "parcoords": [
           {
            "line": {
             "colorbar": {
              "outlinewidth": 0,
              "ticks": ""
             }
            },
            "type": "parcoords"
           }
          ],
          "pie": [
           {
            "automargin": true,
            "type": "pie"
           }
          ],
          "scatter": [
           {
            "fillpattern": {
             "fillmode": "overlay",
             "size": 10,
             "solidity": 0.2
            },
            "type": "scatter"
           }
          ],
          "scatter3d": [
           {
            "line": {
             "colorbar": {
              "outlinewidth": 0,
              "ticks": ""
             }
            },
            "marker": {
             "colorbar": {
              "outlinewidth": 0,
              "ticks": ""
             }
            },
            "type": "scatter3d"
           }
          ],
          "scattercarpet": [
           {
            "marker": {
             "colorbar": {
              "outlinewidth": 0,
              "ticks": ""
             }
            },
            "type": "scattercarpet"
           }
          ],
          "scattergeo": [
           {
            "marker": {
             "colorbar": {
              "outlinewidth": 0,
              "ticks": ""
             }
            },
            "type": "scattergeo"
           }
          ],
          "scattergl": [
           {
            "marker": {
             "colorbar": {
              "outlinewidth": 0,
              "ticks": ""
             }
            },
            "type": "scattergl"
           }
          ],
          "scattermapbox": [
           {
            "marker": {
             "colorbar": {
              "outlinewidth": 0,
              "ticks": ""
             }
            },
            "type": "scattermapbox"
           }
          ],
          "scatterpolar": [
           {
            "marker": {
             "colorbar": {
              "outlinewidth": 0,
              "ticks": ""
             }
            },
            "type": "scatterpolar"
           }
          ],
          "scatterpolargl": [
           {
            "marker": {
             "colorbar": {
              "outlinewidth": 0,
              "ticks": ""
             }
            },
            "type": "scatterpolargl"
           }
          ],
          "scatterternary": [
           {
            "marker": {
             "colorbar": {
              "outlinewidth": 0,
              "ticks": ""
             }
            },
            "type": "scatterternary"
           }
          ],
          "surface": [
           {
            "colorbar": {
             "outlinewidth": 0,
             "ticks": ""
            },
            "colorscale": [
             [
              0,
              "#0d0887"
             ],
             [
              0.1111111111111111,
              "#46039f"
             ],
             [
              0.2222222222222222,
              "#7201a8"
             ],
             [
              0.3333333333333333,
              "#9c179e"
             ],
             [
              0.4444444444444444,
              "#bd3786"
             ],
             [
              0.5555555555555556,
              "#d8576b"
             ],
             [
              0.6666666666666666,
              "#ed7953"
             ],
             [
              0.7777777777777778,
              "#fb9f3a"
             ],
             [
              0.8888888888888888,
              "#fdca26"
             ],
             [
              1,
              "#f0f921"
             ]
            ],
            "type": "surface"
           }
          ],
          "table": [
           {
            "cells": {
             "fill": {
              "color": "#EBF0F8"
             },
             "line": {
              "color": "white"
             }
            },
            "header": {
             "fill": {
              "color": "#C8D4E3"
             },
             "line": {
              "color": "white"
             }
            },
            "type": "table"
           }
          ]
         },
         "layout": {
          "annotationdefaults": {
           "arrowcolor": "#2a3f5f",
           "arrowhead": 0,
           "arrowwidth": 1
          },
          "autotypenumbers": "strict",
          "coloraxis": {
           "colorbar": {
            "outlinewidth": 0,
            "ticks": ""
           }
          },
          "colorscale": {
           "diverging": [
            [
             0,
             "#8e0152"
            ],
            [
             0.1,
             "#c51b7d"
            ],
            [
             0.2,
             "#de77ae"
            ],
            [
             0.3,
             "#f1b6da"
            ],
            [
             0.4,
             "#fde0ef"
            ],
            [
             0.5,
             "#f7f7f7"
            ],
            [
             0.6,
             "#e6f5d0"
            ],
            [
             0.7,
             "#b8e186"
            ],
            [
             0.8,
             "#7fbc41"
            ],
            [
             0.9,
             "#4d9221"
            ],
            [
             1,
             "#276419"
            ]
           ],
           "sequential": [
            [
             0,
             "#0d0887"
            ],
            [
             0.1111111111111111,
             "#46039f"
            ],
            [
             0.2222222222222222,
             "#7201a8"
            ],
            [
             0.3333333333333333,
             "#9c179e"
            ],
            [
             0.4444444444444444,
             "#bd3786"
            ],
            [
             0.5555555555555556,
             "#d8576b"
            ],
            [
             0.6666666666666666,
             "#ed7953"
            ],
            [
             0.7777777777777778,
             "#fb9f3a"
            ],
            [
             0.8888888888888888,
             "#fdca26"
            ],
            [
             1,
             "#f0f921"
            ]
           ],
           "sequentialminus": [
            [
             0,
             "#0d0887"
            ],
            [
             0.1111111111111111,
             "#46039f"
            ],
            [
             0.2222222222222222,
             "#7201a8"
            ],
            [
             0.3333333333333333,
             "#9c179e"
            ],
            [
             0.4444444444444444,
             "#bd3786"
            ],
            [
             0.5555555555555556,
             "#d8576b"
            ],
            [
             0.6666666666666666,
             "#ed7953"
            ],
            [
             0.7777777777777778,
             "#fb9f3a"
            ],
            [
             0.8888888888888888,
             "#fdca26"
            ],
            [
             1,
             "#f0f921"
            ]
           ]
          },
          "colorway": [
           "#636efa",
           "#EF553B",
           "#00cc96",
           "#ab63fa",
           "#FFA15A",
           "#19d3f3",
           "#FF6692",
           "#B6E880",
           "#FF97FF",
           "#FECB52"
          ],
          "font": {
           "color": "#2a3f5f"
          },
          "geo": {
           "bgcolor": "white",
           "lakecolor": "white",
           "landcolor": "#E5ECF6",
           "showlakes": true,
           "showland": true,
           "subunitcolor": "white"
          },
          "hoverlabel": {
           "align": "left"
          },
          "hovermode": "closest",
          "mapbox": {
           "style": "light"
          },
          "paper_bgcolor": "white",
          "plot_bgcolor": "#E5ECF6",
          "polar": {
           "angularaxis": {
            "gridcolor": "white",
            "linecolor": "white",
            "ticks": ""
           },
           "bgcolor": "#E5ECF6",
           "radialaxis": {
            "gridcolor": "white",
            "linecolor": "white",
            "ticks": ""
           }
          },
          "scene": {
           "xaxis": {
            "backgroundcolor": "#E5ECF6",
            "gridcolor": "white",
            "gridwidth": 2,
            "linecolor": "white",
            "showbackground": true,
            "ticks": "",
            "zerolinecolor": "white"
           },
           "yaxis": {
            "backgroundcolor": "#E5ECF6",
            "gridcolor": "white",
            "gridwidth": 2,
            "linecolor": "white",
            "showbackground": true,
            "ticks": "",
            "zerolinecolor": "white"
           },
           "zaxis": {
            "backgroundcolor": "#E5ECF6",
            "gridcolor": "white",
            "gridwidth": 2,
            "linecolor": "white",
            "showbackground": true,
            "ticks": "",
            "zerolinecolor": "white"
           }
          },
          "shapedefaults": {
           "line": {
            "color": "#2a3f5f"
           }
          },
          "ternary": {
           "aaxis": {
            "gridcolor": "white",
            "linecolor": "white",
            "ticks": ""
           },
           "baxis": {
            "gridcolor": "white",
            "linecolor": "white",
            "ticks": ""
           },
           "bgcolor": "#E5ECF6",
           "caxis": {
            "gridcolor": "white",
            "linecolor": "white",
            "ticks": ""
           }
          },
          "title": {
           "x": 0.05
          },
          "xaxis": {
           "automargin": true,
           "gridcolor": "white",
           "linecolor": "white",
           "ticks": "",
           "title": {
            "standoff": 15
           },
           "zerolinecolor": "white",
           "zerolinewidth": 2
          },
          "yaxis": {
           "automargin": true,
           "gridcolor": "white",
           "linecolor": "white",
           "ticks": "",
           "title": {
            "standoff": 15
           },
           "zerolinecolor": "white",
           "zerolinewidth": 2
          }
         }
        }
       }
      },
      "text/html": [
       "<div>                            <div id=\"58903096-0b5b-4c87-871e-38e89b00c813\" class=\"plotly-graph-div\" style=\"height:525px; width:100%;\"></div>            <script type=\"text/javascript\">                require([\"plotly\"], function(Plotly) {                    window.PLOTLYENV=window.PLOTLYENV || {};                                    if (document.getElementById(\"58903096-0b5b-4c87-871e-38e89b00c813\")) {                    Plotly.newPlot(                        \"58903096-0b5b-4c87-871e-38e89b00c813\",                        [{\"branchvalues\":\"total\",\"domain\":{\"x\":[0.0,1.0],\"y\":[0.0,1.0]},\"hovertemplate\":\"labels=%{label}<br>total_txns=%{value}<br>parent=%{parent}<br>id=%{id}<extra></extra>\",\"ids\":[\"across\",\"cliqueofficial\",\"coordinape\",\"decent\",\"defi-llama\",\"delegatexyz\",\"dforce-network\",\"ethereum-attestation-service\",\"filosofiacodigo\",\"flipside-crypto\",\"galxe\",\"gelato\",\"gitcoin\",\"holograph\",\"holonym-foundation\",\"hop-protocol\",\"hypercerts\",\"kiwi-news-attestate\",\"kromatika-finance\",\"kwenta\",\"lyra-finance\",\"mirror\",\"openocean-finance\",\"optinames-optimismresolver\",\"punk-domains\",\"rabbithole\",\"rainbow\",\"revert-finance\",\"shipyard-software\",\"socket\",\"sonne-finance\",\"sushi\",\"synapse\",\"synthetix\",\"umbra\",\"unlock-protocol\",\"velodrome\",\"yearn\",\"zora\"],\"labels\":[\"across\",\"cliqueofficial\",\"coordinape\",\"decent\",\"defi-llama\",\"delegatexyz\",\"dforce-network\",\"ethereum-attestation-service\",\"filosofiacodigo\",\"flipside-crypto\",\"galxe\",\"gelato\",\"gitcoin\",\"holograph\",\"holonym-foundation\",\"hop-protocol\",\"hypercerts\",\"kiwi-news-attestate\",\"kromatika-finance\",\"kwenta\",\"lyra-finance\",\"mirror\",\"openocean-finance\",\"optinames-optimismresolver\",\"punk-domains\",\"rabbithole\",\"rainbow\",\"revert-finance\",\"shipyard-software\",\"socket\",\"sonne-finance\",\"sushi\",\"synapse\",\"synthetix\",\"umbra\",\"unlock-protocol\",\"velodrome\",\"yearn\",\"zora\"],\"name\":\"\",\"parents\":[\"\",\"\",\"\",\"\",\"\",\"\",\"\",\"\",\"\",\"\",\"\",\"\",\"\",\"\",\"\",\"\",\"\",\"\",\"\",\"\",\"\",\"\",\"\",\"\",\"\",\"\",\"\",\"\",\"\",\"\",\"\",\"\",\"\",\"\",\"\",\"\",\"\",\"\",\"\"],\"values\":[83580.0,12161.0,541.0,43.0,2197.0,250.0,7534.0,36.0,122.0,678.0,264460.0,549.0,519.0,318.0,849.0,69817.0,847.0,39.0,2906.0,28683.0,355771.0,23007.0,3989.0,2101.0,6700.0,78620.0,730.0,485.0,131248.0,37819.0,32694.0,14274.0,83311.0,63936.0,9687.0,1056.0,468961.0,626.0,222.0],\"type\":\"treemap\"}],                        {\"template\":{\"data\":{\"histogram2dcontour\":[{\"type\":\"histogram2dcontour\",\"colorbar\":{\"outlinewidth\":0,\"ticks\":\"\"},\"colorscale\":[[0.0,\"#0d0887\"],[0.1111111111111111,\"#46039f\"],[0.2222222222222222,\"#7201a8\"],[0.3333333333333333,\"#9c179e\"],[0.4444444444444444,\"#bd3786\"],[0.5555555555555556,\"#d8576b\"],[0.6666666666666666,\"#ed7953\"],[0.7777777777777778,\"#fb9f3a\"],[0.8888888888888888,\"#fdca26\"],[1.0,\"#f0f921\"]]}],\"choropleth\":[{\"type\":\"choropleth\",\"colorbar\":{\"outlinewidth\":0,\"ticks\":\"\"}}],\"histogram2d\":[{\"type\":\"histogram2d\",\"colorbar\":{\"outlinewidth\":0,\"ticks\":\"\"},\"colorscale\":[[0.0,\"#0d0887\"],[0.1111111111111111,\"#46039f\"],[0.2222222222222222,\"#7201a8\"],[0.3333333333333333,\"#9c179e\"],[0.4444444444444444,\"#bd3786\"],[0.5555555555555556,\"#d8576b\"],[0.6666666666666666,\"#ed7953\"],[0.7777777777777778,\"#fb9f3a\"],[0.8888888888888888,\"#fdca26\"],[1.0,\"#f0f921\"]]}],\"heatmap\":[{\"type\":\"heatmap\",\"colorbar\":{\"outlinewidth\":0,\"ticks\":\"\"},\"colorscale\":[[0.0,\"#0d0887\"],[0.1111111111111111,\"#46039f\"],[0.2222222222222222,\"#7201a8\"],[0.3333333333333333,\"#9c179e\"],[0.4444444444444444,\"#bd3786\"],[0.5555555555555556,\"#d8576b\"],[0.6666666666666666,\"#ed7953\"],[0.7777777777777778,\"#fb9f3a\"],[0.8888888888888888,\"#fdca26\"],[1.0,\"#f0f921\"]]}],\"heatmapgl\":[{\"type\":\"heatmapgl\",\"colorbar\":{\"outlinewidth\":0,\"ticks\":\"\"},\"colorscale\":[[0.0,\"#0d0887\"],[0.1111111111111111,\"#46039f\"],[0.2222222222222222,\"#7201a8\"],[0.3333333333333333,\"#9c179e\"],[0.4444444444444444,\"#bd3786\"],[0.5555555555555556,\"#d8576b\"],[0.6666666666666666,\"#ed7953\"],[0.7777777777777778,\"#fb9f3a\"],[0.8888888888888888,\"#fdca26\"],[1.0,\"#f0f921\"]]}],\"contourcarpet\":[{\"type\":\"contourcarpet\",\"colorbar\":{\"outlinewidth\":0,\"ticks\":\"\"}}],\"contour\":[{\"type\":\"contour\",\"colorbar\":{\"outlinewidth\":0,\"ticks\":\"\"},\"colorscale\":[[0.0,\"#0d0887\"],[0.1111111111111111,\"#46039f\"],[0.2222222222222222,\"#7201a8\"],[0.3333333333333333,\"#9c179e\"],[0.4444444444444444,\"#bd3786\"],[0.5555555555555556,\"#d8576b\"],[0.6666666666666666,\"#ed7953\"],[0.7777777777777778,\"#fb9f3a\"],[0.8888888888888888,\"#fdca26\"],[1.0,\"#f0f921\"]]}],\"surface\":[{\"type\":\"surface\",\"colorbar\":{\"outlinewidth\":0,\"ticks\":\"\"},\"colorscale\":[[0.0,\"#0d0887\"],[0.1111111111111111,\"#46039f\"],[0.2222222222222222,\"#7201a8\"],[0.3333333333333333,\"#9c179e\"],[0.4444444444444444,\"#bd3786\"],[0.5555555555555556,\"#d8576b\"],[0.6666666666666666,\"#ed7953\"],[0.7777777777777778,\"#fb9f3a\"],[0.8888888888888888,\"#fdca26\"],[1.0,\"#f0f921\"]]}],\"mesh3d\":[{\"type\":\"mesh3d\",\"colorbar\":{\"outlinewidth\":0,\"ticks\":\"\"}}],\"scatter\":[{\"fillpattern\":{\"fillmode\":\"overlay\",\"size\":10,\"solidity\":0.2},\"type\":\"scatter\"}],\"parcoords\":[{\"type\":\"parcoords\",\"line\":{\"colorbar\":{\"outlinewidth\":0,\"ticks\":\"\"}}}],\"scatterpolargl\":[{\"type\":\"scatterpolargl\",\"marker\":{\"colorbar\":{\"outlinewidth\":0,\"ticks\":\"\"}}}],\"bar\":[{\"error_x\":{\"color\":\"#2a3f5f\"},\"error_y\":{\"color\":\"#2a3f5f\"},\"marker\":{\"line\":{\"color\":\"#E5ECF6\",\"width\":0.5},\"pattern\":{\"fillmode\":\"overlay\",\"size\":10,\"solidity\":0.2}},\"type\":\"bar\"}],\"scattergeo\":[{\"type\":\"scattergeo\",\"marker\":{\"colorbar\":{\"outlinewidth\":0,\"ticks\":\"\"}}}],\"scatterpolar\":[{\"type\":\"scatterpolar\",\"marker\":{\"colorbar\":{\"outlinewidth\":0,\"ticks\":\"\"}}}],\"histogram\":[{\"marker\":{\"pattern\":{\"fillmode\":\"overlay\",\"size\":10,\"solidity\":0.2}},\"type\":\"histogram\"}],\"scattergl\":[{\"type\":\"scattergl\",\"marker\":{\"colorbar\":{\"outlinewidth\":0,\"ticks\":\"\"}}}],\"scatter3d\":[{\"type\":\"scatter3d\",\"line\":{\"colorbar\":{\"outlinewidth\":0,\"ticks\":\"\"}},\"marker\":{\"colorbar\":{\"outlinewidth\":0,\"ticks\":\"\"}}}],\"scattermapbox\":[{\"type\":\"scattermapbox\",\"marker\":{\"colorbar\":{\"outlinewidth\":0,\"ticks\":\"\"}}}],\"scatterternary\":[{\"type\":\"scatterternary\",\"marker\":{\"colorbar\":{\"outlinewidth\":0,\"ticks\":\"\"}}}],\"scattercarpet\":[{\"type\":\"scattercarpet\",\"marker\":{\"colorbar\":{\"outlinewidth\":0,\"ticks\":\"\"}}}],\"carpet\":[{\"aaxis\":{\"endlinecolor\":\"#2a3f5f\",\"gridcolor\":\"white\",\"linecolor\":\"white\",\"minorgridcolor\":\"white\",\"startlinecolor\":\"#2a3f5f\"},\"baxis\":{\"endlinecolor\":\"#2a3f5f\",\"gridcolor\":\"white\",\"linecolor\":\"white\",\"minorgridcolor\":\"white\",\"startlinecolor\":\"#2a3f5f\"},\"type\":\"carpet\"}],\"table\":[{\"cells\":{\"fill\":{\"color\":\"#EBF0F8\"},\"line\":{\"color\":\"white\"}},\"header\":{\"fill\":{\"color\":\"#C8D4E3\"},\"line\":{\"color\":\"white\"}},\"type\":\"table\"}],\"barpolar\":[{\"marker\":{\"line\":{\"color\":\"#E5ECF6\",\"width\":0.5},\"pattern\":{\"fillmode\":\"overlay\",\"size\":10,\"solidity\":0.2}},\"type\":\"barpolar\"}],\"pie\":[{\"automargin\":true,\"type\":\"pie\"}]},\"layout\":{\"autotypenumbers\":\"strict\",\"colorway\":[\"#636efa\",\"#EF553B\",\"#00cc96\",\"#ab63fa\",\"#FFA15A\",\"#19d3f3\",\"#FF6692\",\"#B6E880\",\"#FF97FF\",\"#FECB52\"],\"font\":{\"color\":\"#2a3f5f\"},\"hovermode\":\"closest\",\"hoverlabel\":{\"align\":\"left\"},\"paper_bgcolor\":\"white\",\"plot_bgcolor\":\"#E5ECF6\",\"polar\":{\"bgcolor\":\"#E5ECF6\",\"angularaxis\":{\"gridcolor\":\"white\",\"linecolor\":\"white\",\"ticks\":\"\"},\"radialaxis\":{\"gridcolor\":\"white\",\"linecolor\":\"white\",\"ticks\":\"\"}},\"ternary\":{\"bgcolor\":\"#E5ECF6\",\"aaxis\":{\"gridcolor\":\"white\",\"linecolor\":\"white\",\"ticks\":\"\"},\"baxis\":{\"gridcolor\":\"white\",\"linecolor\":\"white\",\"ticks\":\"\"},\"caxis\":{\"gridcolor\":\"white\",\"linecolor\":\"white\",\"ticks\":\"\"}},\"coloraxis\":{\"colorbar\":{\"outlinewidth\":0,\"ticks\":\"\"}},\"colorscale\":{\"sequential\":[[0.0,\"#0d0887\"],[0.1111111111111111,\"#46039f\"],[0.2222222222222222,\"#7201a8\"],[0.3333333333333333,\"#9c179e\"],[0.4444444444444444,\"#bd3786\"],[0.5555555555555556,\"#d8576b\"],[0.6666666666666666,\"#ed7953\"],[0.7777777777777778,\"#fb9f3a\"],[0.8888888888888888,\"#fdca26\"],[1.0,\"#f0f921\"]],\"sequentialminus\":[[0.0,\"#0d0887\"],[0.1111111111111111,\"#46039f\"],[0.2222222222222222,\"#7201a8\"],[0.3333333333333333,\"#9c179e\"],[0.4444444444444444,\"#bd3786\"],[0.5555555555555556,\"#d8576b\"],[0.6666666666666666,\"#ed7953\"],[0.7777777777777778,\"#fb9f3a\"],[0.8888888888888888,\"#fdca26\"],[1.0,\"#f0f921\"]],\"diverging\":[[0,\"#8e0152\"],[0.1,\"#c51b7d\"],[0.2,\"#de77ae\"],[0.3,\"#f1b6da\"],[0.4,\"#fde0ef\"],[0.5,\"#f7f7f7\"],[0.6,\"#e6f5d0\"],[0.7,\"#b8e186\"],[0.8,\"#7fbc41\"],[0.9,\"#4d9221\"],[1,\"#276419\"]]},\"xaxis\":{\"gridcolor\":\"white\",\"linecolor\":\"white\",\"ticks\":\"\",\"title\":{\"standoff\":15},\"zerolinecolor\":\"white\",\"automargin\":true,\"zerolinewidth\":2},\"yaxis\":{\"gridcolor\":\"white\",\"linecolor\":\"white\",\"ticks\":\"\",\"title\":{\"standoff\":15},\"zerolinecolor\":\"white\",\"automargin\":true,\"zerolinewidth\":2},\"scene\":{\"xaxis\":{\"backgroundcolor\":\"#E5ECF6\",\"gridcolor\":\"white\",\"linecolor\":\"white\",\"showbackground\":true,\"ticks\":\"\",\"zerolinecolor\":\"white\",\"gridwidth\":2},\"yaxis\":{\"backgroundcolor\":\"#E5ECF6\",\"gridcolor\":\"white\",\"linecolor\":\"white\",\"showbackground\":true,\"ticks\":\"\",\"zerolinecolor\":\"white\",\"gridwidth\":2},\"zaxis\":{\"backgroundcolor\":\"#E5ECF6\",\"gridcolor\":\"white\",\"linecolor\":\"white\",\"showbackground\":true,\"ticks\":\"\",\"zerolinecolor\":\"white\",\"gridwidth\":2}},\"shapedefaults\":{\"line\":{\"color\":\"#2a3f5f\"}},\"annotationdefaults\":{\"arrowcolor\":\"#2a3f5f\",\"arrowhead\":0,\"arrowwidth\":1},\"geo\":{\"bgcolor\":\"white\",\"landcolor\":\"#E5ECF6\",\"subunitcolor\":\"white\",\"showland\":true,\"showlakes\":true,\"lakecolor\":\"white\"},\"title\":{\"x\":0.05},\"mapbox\":{\"style\":\"light\"}}},\"legend\":{\"tracegroupgap\":0},\"margin\":{\"t\":60}},                        {\"responsive\": true}                    ).then(function(){\n",
       "                            \n",
       "var gd = document.getElementById('58903096-0b5b-4c87-871e-38e89b00c813');\n",
       "var x = new MutationObserver(function (mutations, observer) {{\n",
       "        var display = window.getComputedStyle(gd).display;\n",
       "        if (!display || display === 'none') {{\n",
       "            console.log([gd, 'removed!']);\n",
       "            Plotly.purge(gd);\n",
       "            observer.disconnect();\n",
       "        }}\n",
       "}});\n",
       "\n",
       "// Listen for the removal of the full notebook cells\n",
       "var notebookContainer = gd.closest('#notebook-container');\n",
       "if (notebookContainer) {{\n",
       "    x.observe(notebookContainer, {childList: true});\n",
       "}}\n",
       "\n",
       "// Listen for the clearing of the current output cell\n",
       "var outputEl = gd.closest('.output');\n",
       "if (outputEl) {{\n",
       "    x.observe(outputEl, {childList: true});\n",
       "}}\n",
       "\n",
       "                        })                };                });            </script>        </div>"
      ]
     },
     "metadata": {},
     "output_type": "display_data"
    }
   ],
   "source": [
    "px.treemap(\n",
    "    data_frame=df[df['first_interacted_slug'].isin(slugs)], \n",
    "    path=['first_interacted_slug'],\n",
    "    values='total_txns'\n",
    ")"
   ]
  },
  {
   "attachments": {
    "newplot%20%286%29.png": {
     "image/png": "[encoded data removed]"
    }
   },
   "cell_type": "markdown",
   "id": "e386ed24",
   "metadata": {},
   "source": [
    "![newplot%20%286%29.png](attachment:newplot%20%286%29.png)"
   ]
  },
  {
   "cell_type": "code",
   "execution_count": null,
   "id": "8d4fbc27",
   "metadata": {},
   "outputs": [],
   "source": []
  }
 ],
 "metadata": {
  "kernelspec": {
   "display_name": "Python 3 (ipykernel)",
   "language": "python",
   "name": "python3"
  },
  "language_info": {
   "codemirror_mode": {
    "name": "ipython",
    "version": 3
   },
   "file_extension": ".py",
   "mimetype": "text/x-python",
   "name": "python",
   "nbconvert_exporter": "python",
   "pygments_lexer": "ipython3",
   "version": "3.9.7"
  }
 },
 "nbformat": 4,
 "nbformat_minor": 5
}
