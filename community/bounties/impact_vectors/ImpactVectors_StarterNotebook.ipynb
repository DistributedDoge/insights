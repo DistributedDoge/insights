{
 "cells": [
  {
   "cell_type": "code",
   "execution_count": 8,
   "id": "57ff3568",
   "metadata": {},
   "outputs": [],
   "source": [
    "import matplotlib.pyplot as plt\n",
    "import numpy as np\n",
    "import pandas as pd\n",
    "import seaborn as sns"
   ]
  },
  {
   "cell_type": "code",
   "execution_count": 43,
   "id": "80e48776",
   "metadata": {},
   "outputs": [
    {
     "data": {
      "text/plain": [
       "Result: # Ballots                                                                    101\n",
       "Result: Median OP                                                               500000.0\n",
       "Result: Quorum Reached                                                              True\n",
       "Result: Received OP                                                            496896.42\n",
       "Meta: Project Name                                                           go-ethereum\n",
       "Meta: Applicant Type                                                             PROJECT\n",
       "Meta: Website                                    https://github.com/ethereum/go-ethereum\n",
       "Meta: Bio                                             An Ethereum execution layer client\n",
       "Meta: Payout Address                          0x0000006916a87b82333f4245046623b23794C65C\n",
       "Category: Collective Governance                                                        0\n",
       "Category: Developer Ecosystem                                                          1\n",
       "Category: End User Experience and Adoption                                             1\n",
       "Category: OP Stack                                                                     0\n",
       "Funding: Governance Fund                                                               0\n",
       "Funding: Other                                                                         0\n",
       "Funding: Partner Fund                                                                  0\n",
       "Funding: RPGF1                                                                         0\n",
       "Funding: RPGF2                                                                         1\n",
       "Funding: Revenue                                                                       0\n",
       "Keywords: Base                                                                         0\n",
       "Keywords: Farcaster                                                                    0\n",
       "Keywords: Zora                                                                         0\n",
       "Link: Contract on Base                                                                 0\n",
       "Link: Contract on OP Mainnet                                                           0\n",
       "Link: Dune                                                                             0\n",
       "Link: Flipside                                                                         0\n",
       "Link: GitHub                                                                           0\n",
       "Link: GitHub (duneanalytics)                                                           0\n",
       "Link: GitHub (ethereum)                                                                1\n",
       "Link: GitHub (ethereum-optimism)                                                       1\n",
       "Link: NPM Package                                                                      0\n",
       "Link: Optimism Gov                                                                     0\n",
       "Link: Substack                                                                         0\n",
       "Link: Twitter                                                                          0\n",
       "OSO: # GitHub Repos                                                                  1.0\n",
       "OSO: Date First Commit                                                        2013-12-26\n",
       "OSO: Total Stars                                                                 43809.0\n",
       "OSO: Total Forks                                                                 18669.0\n",
       "OSO: Total Contributors                                                           4961.0\n",
       "OSO: Contributors Last 6 Months                                                    354.0\n",
       "OSO: Avg Monthly Active Devs Last 6 Months                                           1.5\n",
       "OSO: # OP Contracts                                                                  0.0\n",
       "OSO: Date First Txn                                                                  NaN\n",
       "OSO: Total Onchain Users                                                             0.0\n",
       "OSO: Onchain Users Last 6 Months                                                     0.0\n",
       "OSO: Total Txns                                                                      NaN\n",
       "OSO: Total Txn Fees (ETH)                                                            NaN\n",
       "OSO: Txn Fees Last 6 Months (ETH)                                                    NaN\n",
       "OSO: # NPM Packages                                                                  0.0\n",
       "OSO: Date First Download                                                             NaN\n",
       "OSO: Total Downloads                                                                 NaN\n",
       "OSO: Downloads Last 6 Months                                                         NaN\n",
       "OSO: Has Profile                                                                       1\n",
       "GTP: VC Funding Amount                                                               NaN\n",
       "GTP: Has Token                                                                       NaN\n",
       "GTP: Has VC Funding                                                                    0\n",
       "Name: 0x5b5cb12df644ca17fabd91825886b5491d1526befaec2924315b8e5971d26cf8, dtype: object"
      ]
     },
     "execution_count": 43,
     "metadata": {},
     "output_type": "execute_result"
    }
   ],
   "source": [
    "# large dataset of retropgf3 projects and associated metrics\n",
    "# note: a few projects have been removed and/or merged\n",
    "\n",
    "df = pd.read_csv(\"retropgf3_impact_data_snapshot.csv\", index_col=0)\n",
    "df.iloc[0]"
   ]
  },
  {
   "cell_type": "code",
   "execution_count": 44,
   "id": "f5d40a03",
   "metadata": {},
   "outputs": [
    {
     "data": {
      "text/html": [
       "<div>\n",
       "<style scoped>\n",
       "    .dataframe tbody tr th:only-of-type {\n",
       "        vertical-align: middle;\n",
       "    }\n",
       "\n",
       "    .dataframe tbody tr th {\n",
       "        vertical-align: top;\n",
       "    }\n",
       "\n",
       "    .dataframe thead th {\n",
       "        text-align: right;\n",
       "    }\n",
       "</style>\n",
       "<table border=\"1\" class=\"dataframe\">\n",
       "  <thead>\n",
       "    <tr style=\"text-align: right;\">\n",
       "      <th></th>\n",
       "      <th>OSO: Downloads Last 6 Months</th>\n",
       "      <th>Result: Received OP</th>\n",
       "    </tr>\n",
       "    <tr>\n",
       "      <th>Project ID</th>\n",
       "      <th></th>\n",
       "      <th></th>\n",
       "    </tr>\n",
       "  </thead>\n",
       "  <tbody>\n",
       "    <tr>\n",
       "      <th>0x32ee121e0dbcef2fe2b7a8e668f9a53ddc6d43e16c423fe8b4595b0120ac08d8</th>\n",
       "      <td>3.204649</td>\n",
       "      <td>298137.85</td>\n",
       "    </tr>\n",
       "    <tr>\n",
       "      <th>0xc593432238cfdcaf9bb9c5d5b87e447f2b6a42d59a91135e0119cccc0d15aa32</th>\n",
       "      <td>2.013140</td>\n",
       "      <td>198758.57</td>\n",
       "    </tr>\n",
       "    <tr>\n",
       "      <th>0x912e6971c43c3a46dbb82d1358af205530663ef01c2fb0691d843a9f72293689</th>\n",
       "      <td>1.687400</td>\n",
       "      <td>248448.21</td>\n",
       "    </tr>\n",
       "    <tr>\n",
       "      <th>0x9d1718c287c5d346ddcdaba1ea67709d8c86fb86736fc38b0be12b118e938f47</th>\n",
       "      <td>1.343354</td>\n",
       "      <td>248448.21</td>\n",
       "    </tr>\n",
       "    <tr>\n",
       "      <th>0x31588517386990050541aed3f6d4d5a370e30fcd5bf622886c1955ffc9565f52</th>\n",
       "      <td>0.478379</td>\n",
       "      <td>280249.58</td>\n",
       "    </tr>\n",
       "  </tbody>\n",
       "</table>\n",
       "</div>"
      ],
      "text/plain": [
       "                                                    OSO: Downloads Last 6 Months  \\\n",
       "Project ID                                                                         \n",
       "0x32ee121e0dbcef2fe2b7a8e668f9a53ddc6d43e16c423...                      3.204649   \n",
       "0xc593432238cfdcaf9bb9c5d5b87e447f2b6a42d59a911...                      2.013140   \n",
       "0x912e6971c43c3a46dbb82d1358af205530663ef01c2fb...                      1.687400   \n",
       "0x9d1718c287c5d346ddcdaba1ea67709d8c86fb86736fc...                      1.343354   \n",
       "0x31588517386990050541aed3f6d4d5a370e30fcd5bf62...                      0.478379   \n",
       "\n",
       "                                                    Result: Received OP  \n",
       "Project ID                                                               \n",
       "0x32ee121e0dbcef2fe2b7a8e668f9a53ddc6d43e16c423...            298137.85  \n",
       "0xc593432238cfdcaf9bb9c5d5b87e447f2b6a42d59a911...            198758.57  \n",
       "0x912e6971c43c3a46dbb82d1358af205530663ef01c2fb...            248448.21  \n",
       "0x9d1718c287c5d346ddcdaba1ea67709d8c86fb86736fc...            248448.21  \n",
       "0x31588517386990050541aed3f6d4d5a370e30fcd5bf62...            280249.58  "
      ]
     },
     "execution_count": 44,
     "metadata": {},
     "output_type": "execute_result"
    }
   ],
   "source": [
    "def log(dataframe, val_col, thresh=0.00001):\n",
    "    # get the log of a series\n",
    "    series = (\n",
    "        dataframe[val_col]\n",
    "        .dropna()\n",
    "        .sort_values(ascending=False)\n",
    "    )\n",
    "    return np.log(series[series>=thresh])\n",
    "\n",
    "def standard(dataframe, val_col, thresh=0):\n",
    "    # get the standard normal distribution of a series\n",
    "    series = (\n",
    "        dataframe[val_col]\n",
    "        .dropna()\n",
    "        .sort_values(ascending=False)\n",
    "    )\n",
    "    return series[series>=thresh]\n",
    "\n",
    "def get_stdevs(vector):\n",
    "    # get the number of standard deviations for each value\n",
    "    mu = vector.mean()\n",
    "    sigma = vector.std()\n",
    "    stdevs = vector.apply(lambda x: (x-mu)/sigma)\n",
    "    return stdevs\n",
    "\n",
    "def analyze_impact_vector(dataframe, func, ind_val, dep_val):\n",
    "    # create a dataframe showing an impact vector and rpgf3 results\n",
    "    v = func(dataframe, ind_val)\n",
    "    x = get_stdevs(v)\n",
    "    y = dataframe.loc[x.index, dep_val]\n",
    "    return pd.concat([x,y], axis=1)\n",
    "\n",
    "test = analyze_impact_vector(df, standard, 'OSO: Downloads Last 6 Months', 'Result: Received OP')\n",
    "test.head()"
   ]
  },
  {
   "cell_type": "code",
   "execution_count": 45,
   "id": "e1fc2a98",
   "metadata": {},
   "outputs": [
    {
     "data": {
      "text/html": [
       "<div>\n",
       "<style scoped>\n",
       "    .dataframe tbody tr th:only-of-type {\n",
       "        vertical-align: middle;\n",
       "    }\n",
       "\n",
       "    .dataframe tbody tr th {\n",
       "        vertical-align: top;\n",
       "    }\n",
       "\n",
       "    .dataframe thead th {\n",
       "        text-align: right;\n",
       "    }\n",
       "</style>\n",
       "<table border=\"1\" class=\"dataframe\">\n",
       "  <thead>\n",
       "    <tr style=\"text-align: right;\">\n",
       "      <th></th>\n",
       "      <th>OSO: Downloads Last 6 Months</th>\n",
       "      <th>Result: Received OP</th>\n",
       "    </tr>\n",
       "  </thead>\n",
       "  <tbody>\n",
       "    <tr>\n",
       "      <th>OSO: Downloads Last 6 Months</th>\n",
       "      <td>1.000000</td>\n",
       "      <td>0.771946</td>\n",
       "    </tr>\n",
       "    <tr>\n",
       "      <th>Result: Received OP</th>\n",
       "      <td>0.771946</td>\n",
       "      <td>1.000000</td>\n",
       "    </tr>\n",
       "  </tbody>\n",
       "</table>\n",
       "</div>"
      ],
      "text/plain": [
       "                              OSO: Downloads Last 6 Months  \\\n",
       "OSO: Downloads Last 6 Months                      1.000000   \n",
       "Result: Received OP                               0.771946   \n",
       "\n",
       "                              Result: Received OP  \n",
       "OSO: Downloads Last 6 Months             0.771946  \n",
       "Result: Received OP                      1.000000  "
      ]
     },
     "execution_count": 45,
     "metadata": {},
     "output_type": "execute_result"
    },
    {
     "data": {
      "image/png": "[encoded data removed]",
      "text/plain": [
       "<Figure size 432x288 with 1 Axes>"
      ]
     },
     "metadata": {
      "needs_background": "light"
     },
     "output_type": "display_data"
    }
   ],
   "source": [
    "# analyze impact vector (example 1)\n",
    "\n",
    "impact_vector = 'OSO: Downloads Last 6 Months'\n",
    "dependent_val = 'Result: Received OP'\n",
    "result = analyze_impact_vector(df, log, impact_vector, dependent_val)\n",
    "sns.scatterplot(data=result, x=impact_vector, y=dependent_val)\n",
    "result.corr()"
   ]
  },
  {
   "cell_type": "code",
   "execution_count": 47,
   "id": "e3fe64bb",
   "metadata": {},
   "outputs": [
    {
     "data": {
      "text/html": [
       "<div>\n",
       "<style scoped>\n",
       "    .dataframe tbody tr th:only-of-type {\n",
       "        vertical-align: middle;\n",
       "    }\n",
       "\n",
       "    .dataframe tbody tr th {\n",
       "        vertical-align: top;\n",
       "    }\n",
       "\n",
       "    .dataframe thead th {\n",
       "        text-align: right;\n",
       "    }\n",
       "</style>\n",
       "<table border=\"1\" class=\"dataframe\">\n",
       "  <thead>\n",
       "    <tr style=\"text-align: right;\">\n",
       "      <th></th>\n",
       "      <th>OSO: Avg Monthly Active Devs Last 6 Months</th>\n",
       "      <th>Result: Received OP</th>\n",
       "    </tr>\n",
       "  </thead>\n",
       "  <tbody>\n",
       "    <tr>\n",
       "      <th>OSO: Avg Monthly Active Devs Last 6 Months</th>\n",
       "      <td>1.000000</td>\n",
       "      <td>0.438263</td>\n",
       "    </tr>\n",
       "    <tr>\n",
       "      <th>Result: Received OP</th>\n",
       "      <td>0.438263</td>\n",
       "      <td>1.000000</td>\n",
       "    </tr>\n",
       "  </tbody>\n",
       "</table>\n",
       "</div>"
      ],
      "text/plain": [
       "                                            OSO: Avg Monthly Active Devs Last 6 Months  \\\n",
       "OSO: Avg Monthly Active Devs Last 6 Months                                    1.000000   \n",
       "Result: Received OP                                                           0.438263   \n",
       "\n",
       "                                            Result: Received OP  \n",
       "OSO: Avg Monthly Active Devs Last 6 Months             0.438263  \n",
       "Result: Received OP                                    1.000000  "
      ]
     },
     "execution_count": 47,
     "metadata": {},
     "output_type": "execute_result"
    },
    {
     "data": {
      "image/png": "[encoded data removed]",
      "text/plain": [
       "<Figure size 432x288 with 1 Axes>"
      ]
     },
     "metadata": {
      "needs_background": "light"
     },
     "output_type": "display_data"
    }
   ],
   "source": [
    "# analyze impact vector (example 2)\n",
    "\n",
    "impact_vector = 'OSO: Avg Monthly Active Devs Last 6 Months'\n",
    "dependent_val = 'Result: Received OP'\n",
    "result = analyze_impact_vector(df, standard, impact_vector, dependent_val)\n",
    "sns.scatterplot(data=result, x=impact_vector, y=dependent_val)\n",
    "result.corr()"
   ]
  }
 ],
 "metadata": {
  "kernelspec": {
   "display_name": "Python 3 (ipykernel)",
   "language": "python",
   "name": "python3"
  },
  "language_info": {
   "codemirror_mode": {
    "name": "ipython",
    "version": 3
   },
   "file_extension": ".py",
   "mimetype": "text/x-python",
   "name": "python",
   "nbconvert_exporter": "python",
   "pygments_lexer": "ipython3",
   "version": "3.9.7"
  }
 },
 "nbformat": 4,
 "nbformat_minor": 5
}
