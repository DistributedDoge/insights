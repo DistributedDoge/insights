{
 "cells": [
  {
   "cell_type": "code",
   "execution_count": 1,
   "id": "fc635557",
   "metadata": {},
   "outputs": [],
   "source": [
    "import pandas as pd"
   ]
  },
  {
   "cell_type": "markdown",
   "id": "44dbdeec",
   "metadata": {},
   "source": [
    "# Load the canonical results data released by OP\n",
    "\n",
    "https://docs.google.com/spreadsheets/d/1h6hPbRE5w8iJxVhxOSYvkMYz-HC6-lePOegXw-usW5Q/edit#gid=583271201"
   ]
  },
  {
   "cell_type": "code",
   "execution_count": 2,
   "id": "b14d15fb",
   "metadata": {},
   "outputs": [
    {
     "data": {
      "text/plain": [
       "Result: # Ballots                95\n",
       "Result: Median OP          668000.0\n",
       "Result: Quorum Reached         True\n",
       "Result: Received OP       663853.62\n",
       "Name: 0x2a1d784639add63bb313c3836b5dc1421d0a775d4cf7459c97bfbee95f39e26f, dtype: object"
      ]
     },
     "execution_count": 2,
     "metadata": {},
     "output_type": "execute_result"
    }
   ],
   "source": [
    "df_results = pd.read_csv(\"csv/RetroPGF3 Results - Canonical.csv\", thousands=\",\")\n",
    "df_results.index = df_results['Project Profile'].str.replace('https://vote.optimism.io/retropgf/3/application/','')\n",
    "df_results.index.name = 'Project ID'\n",
    "df_results.rename(columns={\n",
    "    'ballots': 'Result: # Ballots',\n",
    "    'Quorum reached': 'Result: Quorum Reached',\n",
    "    'median amount': 'Result: Median OP',\n",
    "    'OP Received': 'Result: Received OP'\n",
    "}, inplace=True)\n",
    "df_results.drop(columns=['Project Name', 'Project Profile'], inplace=True)\n",
    "df_results.iloc[0]"
   ]
  },
  {
   "cell_type": "markdown",
   "id": "915e4667",
   "metadata": {},
   "source": [
    "# Load the growthepie data to capture other funding sources\n",
    "\n",
    "https://www.growthepie.xyz/optimism-retropgf-3"
   ]
  },
  {
   "cell_type": "code",
   "execution_count": 3,
   "id": "b19fc751",
   "metadata": {},
   "outputs": [
    {
     "data": {
      "text/plain": [
       "GTP: VC Funding Amount    NaN\n",
       "GTP: Has Token            NaN\n",
       "GTP: Has VC Funding         0\n",
       "Name: 0xef65b1e277e1c7398bbd8a10c623d53dbbb64474ea68b6484e9ccf5c9c0cc494, dtype: object"
      ]
     },
     "execution_count": 3,
     "metadata": {},
     "output_type": "execute_result"
    }
   ],
   "source": [
    "df_gtp = pd.read_csv(\n",
    "    \"csv/RetroPGF3 Results - growthepie.csv\", \n",
    "    usecols=['project_id', 'vc_funding', 'has_token'], \n",
    "    index_col=0\n",
    ")\n",
    "df_gtp['GTP: Has VC Funding'] = (df_gtp['vc_funding'].isna() != True) * 1\n",
    "df_gtp.rename(columns={\n",
    "    'vc_funding': 'GTP: VC Funding Amount',\n",
    "    'has_token': 'GTP: Has Token'\n",
    "}, inplace=True)\n",
    "df_gtp.iloc[0]"
   ]
  },
  {
   "cell_type": "markdown",
   "id": "6602afcd",
   "metadata": {},
   "source": [
    "# Load the OSO snapshot at the start of voting\n",
    "\n",
    "https://docs.google.com/spreadsheets/d/1uOmzUHdbGu_OGnXTYrLNmKQMJx2UZObJm-KRBmPnbCc/edit?usp=sharing"
   ]
  },
  {
   "cell_type": "code",
   "execution_count": 7,
   "id": "596645c4",
   "metadata": {},
   "outputs": [
    {
     "data": {
      "text/plain": [
       "Meta: Project Name                                                                     0xDeFiTH\n",
       "Meta: Applicant Type                                                                 INDIVIDUAL\n",
       "Meta: Website                                                      https://twitter.com/0xDeFiTH\n",
       "Meta: Bio                                     I'm doing the ETH and DeFi educational content...\n",
       "Meta: Payout Address                                 0xA84fa9e80E2b01C48fBc4dfdc8b5aC57F12a7e2B\n",
       "Category: Collective Governance                                                               0\n",
       "Category: Developer Ecosystem                                                                 0\n",
       "Category: End User Experience and Adoption                                                    1\n",
       "Category: OP Stack                                                                            0\n",
       "Funding: Governance Fund                                                                      0\n",
       "Funding: Other                                                                                1\n",
       "Funding: Partner Fund                                                                         0\n",
       "Funding: RPGF1                                                                                0\n",
       "Funding: RPGF2                                                                                0\n",
       "Funding: Revenue                                                                              0\n",
       "Keywords: Base                                                                                0\n",
       "Keywords: Farcaster                                                                           0\n",
       "Keywords: Zora                                                                                0\n",
       "Link: Contract on Base                                                                        0\n",
       "Link: Contract on OP Mainnet                                                                  0\n",
       "Link: Dune                                                                                    0\n",
       "Link: Flipside                                                                                0\n",
       "Link: GitHub                                                                                  0\n",
       "Link: GitHub (duneanalytics)                                                                  0\n",
       "Link: GitHub (ethereum)                                                                       0\n",
       "Link: GitHub (ethereum-optimism)                                                              0\n",
       "Link: NPM Package                                                                             0\n",
       "Link: Optimism Gov                                                                            0\n",
       "Link: Substack                                                                                0\n",
       "Link: Twitter                                                                                 1\n",
       "OSO: # GitHub Repos                                                                         NaN\n",
       "OSO: Date First Commit                                                                      NaN\n",
       "OSO: Total Stars                                                                            NaN\n",
       "OSO: Total Forks                                                                            NaN\n",
       "OSO: Total Contributors                                                                     NaN\n",
       "OSO: Contributors Last 6 Months                                                             NaN\n",
       "OSO: Avg Monthly Active Devs Last 6 Months                                                  NaN\n",
       "OSO: # OP Contracts                                                                         NaN\n",
       "OSO: Date First Txn                                                                         NaN\n",
       "OSO: Total Onchain Users                                                                    NaN\n",
       "OSO: Onchain Users Last 6 Months                                                            NaN\n",
       "OSO: Total Txns                                                                             NaN\n",
       "OSO: Total Txn Fees (ETH)                                                                   NaN\n",
       "OSO: Txn Fees Last 6 Months (ETH)                                                           NaN\n",
       "OSO: # NPM Packages                                                                         NaN\n",
       "OSO: Date First Download                                                                    NaN\n",
       "OSO: Total Downloads                                                                        NaN\n",
       "OSO: Downloads Last 6 Months                                                                NaN\n",
       "OSO: Has Profile                                                                              0\n",
       "Name: 0x22524ed382560f233db327f8a15688699606d15e0be81b104d6a71c78c44211c, dtype: object"
      ]
     },
     "execution_count": 7,
     "metadata": {},
     "output_type": "execute_result"
    }
   ],
   "source": [
    "df_projects = pd.read_csv(\"csv/RetroPGF3 Projects - OSO Snapshot.csv\", index_col=0)\n",
    "df_projects['OSO: Has Profile'] = (df_projects['OSO Slug'].isna() != True) * 1\n",
    "df_projects.drop(columns=['OSO Slug'], inplace=True)\n",
    "df_projects.rename(\n",
    "    columns={\n",
    "        c: f\"Meta: {c}\" for c in df_projects.columns[:5]\n",
    "    },\n",
    "    inplace=True\n",
    ")\n",
    "df_projects.rename(\n",
    "    columns={\n",
    "        c: f\"OSO: {c}\" for c in df_projects.columns if \":\" not in c\n",
    "    },\n",
    "    inplace=True\n",
    ")\n",
    "df_projects.iloc[0]"
   ]
  },
  {
   "cell_type": "markdown",
   "id": "882edd46",
   "metadata": {},
   "source": [
    "# Join the three datasets and dump them"
   ]
  },
  {
   "cell_type": "code",
   "execution_count": 8,
   "id": "b558c1c4",
   "metadata": {},
   "outputs": [
    {
     "data": {
      "text/plain": [
       "Result: # Ballots                                                                            95\n",
       "Result: Median OP                                                                      668000.0\n",
       "Result: Quorum Reached                                                                     True\n",
       "Result: Received OP                                                                   663853.62\n",
       "Meta: Project Name                                                               Protocol Guild\n",
       "Meta: Applicant Type                                                                    PROJECT\n",
       "Meta: Website                                             https://protocol-guild.readthedocs.io\n",
       "Meta: Bio                                     A collective of Ethereum's active core protoco...\n",
       "Meta: Payout Address                                 0x728D29E9E06cE5d846242692dF05467076c19849\n",
       "Category: Collective Governance                                                               0\n",
       "Category: Developer Ecosystem                                                                 1\n",
       "Category: End User Experience and Adoption                                                    1\n",
       "Category: OP Stack                                                                            1\n",
       "Funding: Governance Fund                                                                      0\n",
       "Funding: Other                                                                                1\n",
       "Funding: Partner Fund                                                                         0\n",
       "Funding: RPGF1                                                                                0\n",
       "Funding: RPGF2                                                                                1\n",
       "Funding: Revenue                                                                              0\n",
       "Keywords: Base                                                                                0\n",
       "Keywords: Farcaster                                                                           0\n",
       "Keywords: Zora                                                                                0\n",
       "Link: Contract on Base                                                                        0\n",
       "Link: Contract on OP Mainnet                                                                  0\n",
       "Link: Dune                                                                                    0\n",
       "Link: Flipside                                                                                0\n",
       "Link: GitHub                                                                                  0\n",
       "Link: GitHub (duneanalytics)                                                                  0\n",
       "Link: GitHub (ethereum)                                                                       1\n",
       "Link: GitHub (ethereum-optimism)                                                              0\n",
       "Link: NPM Package                                                                             0\n",
       "Link: Optimism Gov                                                                            0\n",
       "Link: Substack                                                                                0\n",
       "Link: Twitter                                                                                 1\n",
       "OSO: # GitHub Repos                                                                       275.0\n",
       "OSO: Date First Commit                                                               2013-12-19\n",
       "OSO: Total Stars                                                                        43809.0\n",
       "OSO: Total Forks                                                                        18669.0\n",
       "OSO: Total Contributors                                                                 16072.0\n",
       "OSO: Contributors Last 6 Months                                                          1356.0\n",
       "OSO: Avg Monthly Active Devs Last 6 Months                                            45.833333\n",
       "OSO: # OP Contracts                                                                         0.0\n",
       "OSO: Date First Txn                                                                         NaN\n",
       "OSO: Total Onchain Users                                                                    0.0\n",
       "OSO: Onchain Users Last 6 Months                                                            0.0\n",
       "OSO: Total Txns                                                                             NaN\n",
       "OSO: Total Txn Fees (ETH)                                                                   NaN\n",
       "OSO: Txn Fees Last 6 Months (ETH)                                                           NaN\n",
       "OSO: # NPM Packages                                                                         0.0\n",
       "OSO: Date First Download                                                                    NaN\n",
       "OSO: Total Downloads                                                                        NaN\n",
       "OSO: Downloads Last 6 Months                                                                NaN\n",
       "OSO: Has Profile                                                                              1\n",
       "GTP: VC Funding Amount                                                                      NaN\n",
       "GTP: Has Token                                                                              NaN\n",
       "GTP: Has VC Funding                                                                           0\n",
       "Name: 0x2a1d784639add63bb313c3836b5dc1421d0a775d4cf7459c97bfbee95f39e26f, dtype: object"
      ]
     },
     "execution_count": 8,
     "metadata": {},
     "output_type": "execute_result"
    }
   ],
   "source": [
    "df = df_results.join(df_projects.join(df_gtp))\n",
    "df.sort_values(by=['Result: Received OP', 'Result: # Ballots'], inplace=True, ascending=False)\n",
    "df.iloc[0]"
   ]
  },
  {
   "cell_type": "code",
   "execution_count": 9,
   "id": "58885025",
   "metadata": {},
   "outputs": [],
   "source": [
    "df.to_csv(\"csv/RetroPGF3 Results - ConsolidatedData.csv\")"
   ]
  }
 ],
 "metadata": {
  "kernelspec": {
   "display_name": "Python 3 (ipykernel)",
   "language": "python",
   "name": "python3"
  },
  "language_info": {
   "codemirror_mode": {
    "name": "ipython",
    "version": 3
   },
   "file_extension": ".py",
   "mimetype": "text/x-python",
   "name": "python",
   "nbconvert_exporter": "python",
   "pygments_lexer": "ipython3",
   "version": "3.9.7"
  }
 },
 "nbformat": 4,
 "nbformat_minor": 5
}
